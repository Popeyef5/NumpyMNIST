{
 "cells": [
  {
   "cell_type": "code",
   "execution_count": 1,
   "id": "photographic-divorce",
   "metadata": {},
   "outputs": [
    {
     "name": "stdout",
     "output_type": "stream",
     "text": [
      "Populating the interactive namespace from numpy and matplotlib\n"
     ]
    }
   ],
   "source": [
    "%pylab inline\n",
    "%matplotlib inline\n",
    "\n",
    "import numpy as np\n",
    "import math\n",
    "\n",
    "from tqdm import trange\n",
    "from matplotlib import pyplot as plt\n",
    "from IPython.display import clear_output\n",
    "from time import sleep"
   ]
  },
  {
   "cell_type": "code",
   "execution_count": 2,
   "id": "objective-joseph",
   "metadata": {},
   "outputs": [],
   "source": [
    "# Data import \n",
    "\n",
    "def fetch(url):\n",
    "    import requests, gzip, os, hashlib, numpy\n",
    "    path = os.path.join(os.getcwd(), hashlib.md5(url.encode('utf-8')).hexdigest())\n",
    "    if os.path.isfile(path):\n",
    "        with open(path, 'rb') as f:\n",
    "            dat = f.read()\n",
    "    else:\n",
    "        with open(path, 'wb') as f:\n",
    "            dat = requests.get(url).content\n",
    "            f.write(dat)\n",
    "    return numpy.frombuffer(gzip.decompress(dat), dtype=numpy.uint8).copy()\n",
    "\n",
    "X_train = fetch('http://yann.lecun.com/exdb/mnist/train-images-idx3-ubyte.gz')[0x10:].reshape((-1, 28, 28))\n",
    "Y_train = fetch('http://yann.lecun.com/exdb/mnist/train-labels-idx1-ubyte.gz')[8:]\n",
    "X_test = fetch('http://yann.lecun.com/exdb/mnist/t10k-images-idx3-ubyte.gz')[0x10:].reshape((-1, 28, 28))\n",
    "Y_test = fetch('http://yann.lecun.com/exdb/mnist/t10k-labels-idx1-ubyte.gz')[8:]"
   ]
  },
  {
   "cell_type": "markdown",
   "id": "continent-palmer",
   "metadata": {},
   "source": [
    "# Classes definition and helper functions"
   ]
  },
  {
   "cell_type": "code",
   "execution_count": 3,
   "id": "knowing-bangladesh",
   "metadata": {},
   "outputs": [],
   "source": [
    "# Layer function definition (from MNIST Classifier)\n",
    "\n",
    "import abc\n",
    "\n",
    "class LayerFunction:\n",
    "    __metaclass__ = abc.ABCMeta\n",
    "\n",
    "    def __call__(self, *args, **kwargs):\n",
    "        return self.evaluate(*args, **kwargs)\n",
    "        \n",
    "    @abc.abstractmethod\n",
    "    def evaluate(self, *args, **kwargs):\n",
    "        pass\n",
    "    \n",
    "    @abc.abstractmethod\n",
    "    def backprop(self):\n",
    "        pass\n",
    "\n",
    "\n",
    "# Activation function definition\n",
    "\n",
    "class ActivationFunction(LayerFunction):\n",
    "    \n",
    "    def __init__(self, axis=1):\n",
    "        self.axis = axis\n",
    "    \n",
    "\n",
    "class ReLU(ActivationFunction):\n",
    "    \n",
    "    def evaluate(self, x):\n",
    "        return np.maximum(x, 0)\n",
    "    \n",
    "    def backprop(self, dD, x):\n",
    "        return (x > 0).astype(int)*dD\n",
    "\n",
    "\n",
    "class LogSoftmax(ActivationFunction):\n",
    "        \n",
    "    def evaluate(self, x):\n",
    "        x = x - x.max(1).reshape(-1, 1)\n",
    "        x = x - np.log(np.exp(x).sum(1)).reshape(-1, 1)\n",
    "        return x\n",
    "            \n",
    "    def backprop(self, dD, x):\n",
    "        exp_lsm = np.exp(self.evaluate(x))\n",
    "        dLSM = dD - exp_lsm*dD.sum(axis=self.axis).reshape((-1, 1))\n",
    "        return dLSM\n",
    "    \n",
    "\n",
    "# Loss function definition\n",
    "\n",
    "class LossFunction(LayerFunction):\n",
    "\n",
    "    def __init__(self, axis=0):\n",
    "        self.axis = axis \n",
    "    \n",
    "\n",
    "class NLLLoss(LossFunction):\n",
    "    \n",
    "    def evaluate(self, x, labels):\n",
    "        if self.axis == 0:\n",
    "            return -np.mean(x[np.arange(x.shape[0]), labels])\n",
    "    \n",
    "    def backprop(self, x, y):\n",
    "        dx = np.zeros(x.shape, dtype=x.dtype)\n",
    "        if self.axis == 0:\n",
    "            dx[np.arange(x.shape[0]), y.T] = -1/len(y)\n",
    "        return dx\n",
    "\n",
    "\n",
    "class QuadraticLoss(LossFunction):\n",
    "    \n",
    "    def evaluate(self, x, labels):\n",
    "        target = np.zeros(x.shape, dtype=x.dtype)\n",
    "        target[:, labels] = 1\n",
    "        return np.mean(np.sum((x-target)**2, axis=1))\n",
    "                        \n",
    "    def backprop(self, x, y):\n",
    "        target = np.zeros(x.shape, dtype=x.dtype)\n",
    "        target[:, y] = 1\n",
    "        return 2*(x-target)"
   ]
  },
  {
   "cell_type": "code",
   "execution_count": 4,
   "id": "secondary-binary",
   "metadata": {},
   "outputs": [],
   "source": [
    "# Contrast function to better understand patterns\n",
    "\n",
    "def contrast(img, high=1, low=None):\n",
    "    if low is None:\n",
    "        low = high\n",
    "    \n",
    "    argsort = img.argsort(axis=None)\n",
    "    idx_high = argsort[-high:]\n",
    "    idx_low = argsort[:low]\n",
    "    \n",
    "    ret = np.ones(math.prod(img.shape))*128\n",
    "    ret[idx_high] = 255\n",
    "    ret[idx_low] = 0\n",
    "    \n",
    "    return ret.reshape(img.shape)\n",
    "\n",
    "\n",
    "# Rescale images array to have the same max and min values\n",
    "def album(imgs, cols=None, with_contrast=False):\n",
    "    if cols is None:\n",
    "        cols = imgs.shape[0]\n",
    "    \n",
    "    remainder = imgs.shape[0] % cols\n",
    "    ret_shape = (imgs.shape[0] + math.ceil(remainder / cols) * (cols - remainder), imgs.shape[1], imgs.shape[2])\n",
    "    ret = np.ones(ret_shape)*128\n",
    "    \n",
    "    if with_contrast:\n",
    "        for i in range(imgs.shape[0]):\n",
    "            ret[i] = contrast(imgs[i], 200)\n",
    "    else:\n",
    "        max_value = np.max(imgs)\n",
    "        min_value = np.min(imgs)\n",
    "        avg = (max_value + min_value) * 0.5\n",
    "        amp = max_value - min_value\n",
    "\n",
    "        for i in range(imgs.shape[0]):\n",
    "            img = imgs[i]\n",
    "            curr_max = np.max(img)\n",
    "            curr_min = np.min(img)\n",
    "            curr_avg = (curr_max + curr_min) * 0.5\n",
    "            curr_amp = curr_max - curr_min\n",
    "            img = img - curr_avg # Down to zero avg\n",
    "            img = img * amp / curr_amp # Rescale\n",
    "            img = img + avg # Add desired average again\n",
    "            ret[i] = img\n",
    "    \n",
    "    rows = ret.shape[0] // cols\n",
    "    return np.concatenate(ret.reshape(cols, rows*ret.shape[1], ret.shape[2]), axis=1)\n"
   ]
  },
  {
   "cell_type": "code",
   "execution_count": 5,
   "id": "recognized-lithuania",
   "metadata": {},
   "outputs": [],
   "source": [
    "# Model definition\n",
    "\n",
    "class NPClassifier:\n",
    "    def __init__(self, l1=128, l2=10, with_biases=False, dtype=np.float32):\n",
    "        self.l1 = l1\n",
    "        self.l2 = l2\n",
    "        self.with_biases = with_biases\n",
    "        \n",
    "        # For consistency\n",
    "        np.random.seed(1337)\n",
    "        \n",
    "        # Kaiming weigth initialization\n",
    "        # Uniform sampling\n",
    "        # https://github.com/pytorch/pytorch/blob/master/torch/nn/modules/linear.py#L44-L48\n",
    "        self.w1 = np.random.uniform(-1., 1., size=(28*28, l1))/np.sqrt(28*28*l1).astype(dtype)\n",
    "        self.w2 = np.random.uniform(-1., 1., size=(l1, l2))/np.sqrt(l1*l2).astype(dtype)\n",
    "                    \n",
    "        if with_biases:\n",
    "            # Uniform bias initialization\n",
    "            # https://github.com/pytorch/pytorch/blob/master/torch/nn/modules/linear.py#L44-L48\n",
    "            self.b1 = np.random.uniform(-1., 1., size=(1, l1))/np.sqrt(l1).astype(dtype)\n",
    "            self.b2 = np.random.uniform(-1., 1., size=(1, l2))/np.sqrt(l2).astype(dtype)\n",
    "\n",
    "        # Layer activation functions\n",
    "        self.act1 = ReLU()\n",
    "        self.act2 = LogSoftmax()\n",
    "    \n",
    "    def __call__(self, x):\n",
    "        return self.forward(x)\n",
    "        \n",
    "    def forward(self, x):\n",
    "        x = x.dot(self.w1)\n",
    "        if self.with_biases:\n",
    "            x = x + self.b1\n",
    "        x = self.act1(x)\n",
    "        x = x.dot(self.w2)\n",
    "        if self.with_biases:\n",
    "            x = x + self.b2\n",
    "        x = self.act2(x)\n",
    "\n",
    "        return x\n",
    "    \n",
    "    def forward_backward(self, a0, y, loss_function):\n",
    "                    \n",
    "        # Forward pass\n",
    "        z1 = a0.dot(self.w1)\n",
    "        if self.with_biases:\n",
    "            z1 = z1 + self.b1\n",
    "        a1 = self.act1(z1)\n",
    "        z2 = a1.dot(self.w2)\n",
    "        if self.with_biases:\n",
    "            z2 = z2 + self.b2\n",
    "        a2 = self.act2(z2)\n",
    "        \n",
    "        # Loss and accuracy\n",
    "        loss = loss_function(a2, y)\n",
    "        accuracy = (np.argmax(a2, axis=1) == y).mean()\n",
    "\n",
    "        # Backward pass\n",
    "        da2 = loss_function.backprop(a2, y)\n",
    "        dz2 = self.act2.backprop(da2, z2)\n",
    "        db2 = dz2.mean(axis=0).reshape(1, self.l2) # Relevant\n",
    "        dw2 = a1.T.dot(dz2) # Relevant\n",
    "        da1 = dz2.dot(self.w2.T)\n",
    "        dz1 = self.act1.backprop(da1, z1)\n",
    "        db1 = dz1.mean(axis=0).reshape(1, self.l1) # Relevant\n",
    "        dw1 = a0.T.dot(dz1) # Relevant\n",
    "        da0 = dz1.dot(self.w1.T)\n",
    "        \n",
    "        # Return loss and gradients\n",
    "        grad = {'w1': dw1, 'w2': dw2, 'b1': db1, 'b2': db2, 'a0': da0}\n",
    "        return loss, accuracy, grad\n",
    "    \n",
    "    def step(self, lr, dw1, dw2, db1=None, db2=None):\n",
    "        self.w1 = self.w1 - dw1 * lr\n",
    "        self.w2 = self.w2 - dw2 * lr\n",
    "        if self.with_biases:\n",
    "            self.b1 = self.b1 - db1 * lr\n",
    "            self.b2 = self.b2 - db2 * lr\n",
    "    \n",
    "    def train(self, inputs, labels, batch_size, epochs, loss_function, learning_rate):\n",
    "        losses = []\n",
    "        accuracies = []\n",
    "        for i in trange(epochs):\n",
    "            samples = np.random.randint(0, inputs.shape[0], size=batch_size)\n",
    "            loss, acc, grad = self.forward_backward(inputs[samples], labels[samples], loss_function)\n",
    "            losses.append(loss)\n",
    "            accuracies.append(acc)\n",
    "            self.step(learning_rate, grad['w1'], grad['w2'], grad['b1'], grad['b2'])\n",
    "        return losses, accuracies\n",
    "    \n",
    "    def test(self, inputs, labels):\n",
    "        forward = np.argmax(self.forward(inputs.reshape((-1, 28*28))), 1)\n",
    "        return (forward == labels).mean()\n",
    "        \n",
    "    def reconstruct(self, label, epochs, loss_function, learning_rate, frames=None, with_contrast=False):\n",
    "        x = (np.random.uniform(-1., 1., size=(1, 28*28))/28 + 128).astype(np.float32)\n",
    "        label = np.array([label])\n",
    "        losses = []\n",
    "        \n",
    "        if frames is not None:\n",
    "            plt.figure()\n",
    "            \n",
    "            # Animation and trange don't like eachother for some reason\n",
    "            iterations = range(epochs)\n",
    "        else:\n",
    "            iterations = trange(epochs)\n",
    "\n",
    "        for i in iterations:\n",
    "            loss, _, grad = self.forward_backward(x, label, loss_function)\n",
    "            x = x - learning_rate * grad['a0']\n",
    "            losses.append(loss)\n",
    "            \n",
    "            if frames is not None and i % (epochs // frames) == 0:\n",
    "                if with_contrast:\n",
    "                    plt.imshow(contrast(x, 200).reshape(28, 28))\n",
    "                else:\n",
    "                    plt.imshow(x.reshape(28, 28))\n",
    "                plt.show()\n",
    "                sleep(0.01)\n",
    "                clear_output(wait=True)\n",
    "        \n",
    "        return x, self(x), losses\n",
    "    \n",
    "    @classmethod\n",
    "    def from_weights(cls, w1, w2, b1=None, b2=None):\n",
    "        assert w1.shape[0] == 28*28\n",
    "        classifier = cls()\n",
    "        classifier.l1 = w1.shape[1]\n",
    "        classifier.l2 = w2.shape[1]\n",
    "        classifier.w1 = w1\n",
    "        classifier.w2 = w2\n",
    "        if b1 is not None and b2 is not None:\n",
    "            assert b1.shape[1] == w1.shape[1] and b2.shape[1] == w2.shape[1]\n",
    "            classifier.with_biases = True\n",
    "            classifier.b1 = b1\n",
    "            classifier.b2 = b2\n",
    "        return classifier\n",
    "        "
   ]
  },
  {
   "cell_type": "markdown",
   "id": "trained-hobby",
   "metadata": {},
   "source": [
    "# Model training"
   ]
  },
  {
   "cell_type": "code",
   "execution_count": 6,
   "id": "liked-agreement",
   "metadata": {},
   "outputs": [
    {
     "name": "stderr",
     "output_type": "stream",
     "text": [
      "100%|██████████| 1000/1000 [00:03<00:00, 258.70it/s]\n"
     ]
    },
    {
     "name": "stdout",
     "output_type": "stream",
     "text": [
      "Accuracy: 0.9635\n"
     ]
    },
    {
     "data": {
      "image/png": "[encoded data removed]",
      "text/plain": [
       "<Figure size 288x288 with 1 Axes>"
      ]
     },
     "metadata": {
      "needs_background": "light"
     },
     "output_type": "display_data"
    }
   ],
   "source": [
    "npmodel = NPClassifier()\n",
    "\n",
    "batch_size = 128\n",
    "epochs = 1000\n",
    "learning_rate = 0.001\n",
    "loss_function = NLLLoss()\n",
    "\n",
    "inputs = X_train.reshape(-1, 28*28)\n",
    "labels = Y_train\n",
    "\n",
    "losses, accuracies = npmodel.train(inputs, labels, batch_size, epochs, loss_function, learning_rate)\n",
    "\n",
    "figsize(4, 4)\n",
    "plot(losses)\n",
    "plot(accuracies)\n",
    "\n",
    "print(f'Accuracy: {npmodel.test(X_test, Y_test)}')"
   ]
  },
  {
   "cell_type": "markdown",
   "id": "juvenile-flooring",
   "metadata": {},
   "source": [
    "# Image reconstruction"
   ]
  },
  {
   "cell_type": "code",
   "execution_count": 7,
   "id": "english-alaska",
   "metadata": {},
   "outputs": [
    {
     "name": "stdout",
     "output_type": "stream",
     "text": [
      "Guess: 5\n"
     ]
    },
    {
     "data": {
      "image/png": "[encoded data removed]",
      "text/plain": [
       "<Figure size 288x288 with 1 Axes>"
      ]
     },
     "metadata": {
      "needs_background": "light"
     },
     "output_type": "display_data"
    },
    {
     "data": {
      "image/png": "[encoded data removed]",
      "text/plain": [
       "<Figure size 288x288 with 1 Axes>"
      ]
     },
     "metadata": {
      "needs_background": "light"
     },
     "output_type": "display_data"
    }
   ],
   "source": [
    "# Using quadratic loss\n",
    "\n",
    "reconstruction_loss = QuadraticLoss()\n",
    "label = 5\n",
    "epochs = 100000\n",
    "learning_rate = 0.1\n",
    "\n",
    "sol, res, losses = npmodel.reconstruct(label, epochs, reconstruction_loss, learning_rate, frames=50, with_contrast=True)\n",
    "\n",
    "plot(losses)\n",
    "figure()\n",
    "imshow(sol.reshape(28, 28))\n",
    "print('Guess:', np.argmax(res))"
   ]
  },
  {
   "cell_type": "code",
   "execution_count": 8,
   "id": "academic-mobility",
   "metadata": {},
   "outputs": [
    {
     "name": "stderr",
     "output_type": "stream",
     "text": [
      "100%|██████████| 1000000/1000000 [06:01<00:00, 2767.05it/s]\n"
     ]
    },
    {
     "name": "stdout",
     "output_type": "stream",
     "text": [
      "Guess: 1\n"
     ]
    },
    {
     "data": {
      "image/png": "[encoded data removed]",
      "text/plain": [
       "<Figure size 288x288 with 1 Axes>"
      ]
     },
     "metadata": {
      "needs_background": "light"
     },
     "output_type": "display_data"
    },
    {
     "data": {
      "image/png": "[encoded data removed]",
      "text/plain": [
       "<Figure size 288x288 with 1 Axes>"
      ]
     },
     "metadata": {
      "needs_background": "light"
     },
     "output_type": "display_data"
    }
   ],
   "source": [
    "# Using negative log-likelihood loss\n",
    "\n",
    "reconstruction_loss = NLLLoss()\n",
    "label = 1\n",
    "epochs = 1000000\n",
    "learning_rate = 0.1\n",
    "\n",
    "sol, res, losses = npmodel.reconstruct(label, epochs, reconstruction_loss, learning_rate)\n",
    "\n",
    "plot(losses)\n",
    "figure()\n",
    "imshow(sol.reshape(28, 28))\n",
    "print('Guess:', np.argmax(res))"
   ]
  },
  {
   "cell_type": "code",
   "execution_count": 9,
   "id": "requested-former",
   "metadata": {},
   "outputs": [
    {
     "name": "stderr",
     "output_type": "stream",
     "text": [
      "100%|██████████| 100000/100000 [00:34<00:00, 2872.30it/s]\n",
      "100%|██████████| 100000/100000 [00:37<00:00, 2665.89it/s]\n",
      " 40%|████      | 40167/100000 [00:15<00:22, 2671.29it/s]\n"
     ]
    },
    {
     "ename": "KeyboardInterrupt",
     "evalue": "",
     "output_type": "error",
     "traceback": [
      "\u001b[0;31m---------------------------------------------------------------------------\u001b[0m",
      "\u001b[0;31mKeyboardInterrupt\u001b[0m                         Traceback (most recent call last)",
      "\u001b[0;32m<ipython-input-9-fb60b2b69ef8>\u001b[0m in \u001b[0;36m<module>\u001b[0;34m\u001b[0m\n\u001b[1;32m     27\u001b[0m     \u001b[0;32mfor\u001b[0m \u001b[0mi\u001b[0m \u001b[0;32min\u001b[0m \u001b[0mrange\u001b[0m\u001b[0;34m(\u001b[0m\u001b[0;36m10\u001b[0m\u001b[0;34m)\u001b[0m\u001b[0;34m:\u001b[0m\u001b[0;34m\u001b[0m\u001b[0;34m\u001b[0m\u001b[0m\n\u001b[1;32m     28\u001b[0m         \u001b[0mlabel\u001b[0m \u001b[0;34m=\u001b[0m \u001b[0mi\u001b[0m\u001b[0;34m\u001b[0m\u001b[0;34m\u001b[0m\u001b[0m\n\u001b[0;32m---> 29\u001b[0;31m         \u001b[0msol\u001b[0m\u001b[0;34m,\u001b[0m \u001b[0mres\u001b[0m\u001b[0;34m,\u001b[0m \u001b[0m_\u001b[0m \u001b[0;34m=\u001b[0m \u001b[0mnpmodel\u001b[0m\u001b[0;34m.\u001b[0m\u001b[0mreconstruct\u001b[0m\u001b[0;34m(\u001b[0m\u001b[0mlabel\u001b[0m\u001b[0;34m,\u001b[0m \u001b[0mepochs\u001b[0m\u001b[0;34m,\u001b[0m \u001b[0mreconstruction_loss\u001b[0m\u001b[0;34m,\u001b[0m \u001b[0mlearning_rate\u001b[0m\u001b[0;34m)\u001b[0m\u001b[0;34m\u001b[0m\u001b[0;34m\u001b[0m\u001b[0m\n\u001b[0m\u001b[1;32m     30\u001b[0m         \u001b[0mNLLLoss_images\u001b[0m \u001b[0;34m=\u001b[0m \u001b[0mnp\u001b[0m\u001b[0;34m.\u001b[0m\u001b[0mconcatenate\u001b[0m\u001b[0;34m(\u001b[0m\u001b[0;34m(\u001b[0m\u001b[0mNLLLoss_images\u001b[0m\u001b[0;34m,\u001b[0m \u001b[0msol\u001b[0m\u001b[0;34m.\u001b[0m\u001b[0mreshape\u001b[0m\u001b[0;34m(\u001b[0m\u001b[0;36m1\u001b[0m\u001b[0;34m,\u001b[0m \u001b[0;36m28\u001b[0m\u001b[0;34m,\u001b[0m \u001b[0;36m28\u001b[0m\u001b[0;34m)\u001b[0m\u001b[0;34m)\u001b[0m\u001b[0;34m)\u001b[0m\u001b[0;34m\u001b[0m\u001b[0;34m\u001b[0m\u001b[0m\n\u001b[1;32m     31\u001b[0m         \u001b[0mNLLLoss_predictions\u001b[0m\u001b[0;34m.\u001b[0m\u001b[0mappend\u001b[0m\u001b[0;34m(\u001b[0m\u001b[0mnp\u001b[0m\u001b[0;34m.\u001b[0m\u001b[0margmax\u001b[0m\u001b[0;34m(\u001b[0m\u001b[0mres\u001b[0m\u001b[0;34m)\u001b[0m\u001b[0;34m)\u001b[0m\u001b[0;34m\u001b[0m\u001b[0;34m\u001b[0m\u001b[0m\n",
      "\u001b[0;32m<ipython-input-5-3d9bf3c63cf9>\u001b[0m in \u001b[0;36mreconstruct\u001b[0;34m(self, label, epochs, loss_function, learning_rate, frames, with_contrast)\u001b[0m\n\u001b[1;32m    108\u001b[0m \u001b[0;34m\u001b[0m\u001b[0m\n\u001b[1;32m    109\u001b[0m         \u001b[0;32mfor\u001b[0m \u001b[0mi\u001b[0m \u001b[0;32min\u001b[0m \u001b[0miterations\u001b[0m\u001b[0;34m:\u001b[0m\u001b[0;34m\u001b[0m\u001b[0;34m\u001b[0m\u001b[0m\n\u001b[0;32m--> 110\u001b[0;31m             \u001b[0mloss\u001b[0m\u001b[0;34m,\u001b[0m \u001b[0m_\u001b[0m\u001b[0;34m,\u001b[0m \u001b[0mgrad\u001b[0m \u001b[0;34m=\u001b[0m \u001b[0mself\u001b[0m\u001b[0;34m.\u001b[0m\u001b[0mforward_backward\u001b[0m\u001b[0;34m(\u001b[0m\u001b[0mx\u001b[0m\u001b[0;34m,\u001b[0m \u001b[0mlabel\u001b[0m\u001b[0;34m,\u001b[0m \u001b[0mloss_function\u001b[0m\u001b[0;34m)\u001b[0m\u001b[0;34m\u001b[0m\u001b[0;34m\u001b[0m\u001b[0m\n\u001b[0m\u001b[1;32m    111\u001b[0m             \u001b[0mx\u001b[0m \u001b[0;34m=\u001b[0m \u001b[0mx\u001b[0m \u001b[0;34m-\u001b[0m \u001b[0mlearning_rate\u001b[0m \u001b[0;34m*\u001b[0m \u001b[0mgrad\u001b[0m\u001b[0;34m[\u001b[0m\u001b[0;34m'a0'\u001b[0m\u001b[0;34m]\u001b[0m\u001b[0;34m\u001b[0m\u001b[0;34m\u001b[0m\u001b[0m\n\u001b[1;32m    112\u001b[0m             \u001b[0mlosses\u001b[0m\u001b[0;34m.\u001b[0m\u001b[0mappend\u001b[0m\u001b[0;34m(\u001b[0m\u001b[0mloss\u001b[0m\u001b[0;34m)\u001b[0m\u001b[0;34m\u001b[0m\u001b[0;34m\u001b[0m\u001b[0m\n",
      "\u001b[0;32m<ipython-input-5-3d9bf3c63cf9>\u001b[0m in \u001b[0;36mforward_backward\u001b[0;34m(self, a0, y, loss_function)\u001b[0m\n\u001b[1;32m     60\u001b[0m         \u001b[0mda2\u001b[0m \u001b[0;34m=\u001b[0m \u001b[0mloss_function\u001b[0m\u001b[0;34m.\u001b[0m\u001b[0mbackprop\u001b[0m\u001b[0;34m(\u001b[0m\u001b[0ma2\u001b[0m\u001b[0;34m,\u001b[0m \u001b[0my\u001b[0m\u001b[0;34m)\u001b[0m\u001b[0;34m\u001b[0m\u001b[0;34m\u001b[0m\u001b[0m\n\u001b[1;32m     61\u001b[0m         \u001b[0mdz2\u001b[0m \u001b[0;34m=\u001b[0m \u001b[0mself\u001b[0m\u001b[0;34m.\u001b[0m\u001b[0mact2\u001b[0m\u001b[0;34m.\u001b[0m\u001b[0mbackprop\u001b[0m\u001b[0;34m(\u001b[0m\u001b[0mda2\u001b[0m\u001b[0;34m,\u001b[0m \u001b[0mz2\u001b[0m\u001b[0;34m)\u001b[0m\u001b[0;34m\u001b[0m\u001b[0;34m\u001b[0m\u001b[0m\n\u001b[0;32m---> 62\u001b[0;31m         \u001b[0mdb2\u001b[0m \u001b[0;34m=\u001b[0m \u001b[0mdz2\u001b[0m\u001b[0;34m.\u001b[0m\u001b[0mmean\u001b[0m\u001b[0;34m(\u001b[0m\u001b[0maxis\u001b[0m\u001b[0;34m=\u001b[0m\u001b[0;36m0\u001b[0m\u001b[0;34m)\u001b[0m\u001b[0;34m.\u001b[0m\u001b[0mreshape\u001b[0m\u001b[0;34m(\u001b[0m\u001b[0;36m1\u001b[0m\u001b[0;34m,\u001b[0m \u001b[0mself\u001b[0m\u001b[0;34m.\u001b[0m\u001b[0ml2\u001b[0m\u001b[0;34m)\u001b[0m \u001b[0;31m# Relevant\u001b[0m\u001b[0;34m\u001b[0m\u001b[0;34m\u001b[0m\u001b[0m\n\u001b[0m\u001b[1;32m     63\u001b[0m         \u001b[0mdw2\u001b[0m \u001b[0;34m=\u001b[0m \u001b[0ma1\u001b[0m\u001b[0;34m.\u001b[0m\u001b[0mT\u001b[0m\u001b[0;34m.\u001b[0m\u001b[0mdot\u001b[0m\u001b[0;34m(\u001b[0m\u001b[0mdz2\u001b[0m\u001b[0;34m)\u001b[0m \u001b[0;31m# Relevant\u001b[0m\u001b[0;34m\u001b[0m\u001b[0;34m\u001b[0m\u001b[0m\n\u001b[1;32m     64\u001b[0m         \u001b[0mda1\u001b[0m \u001b[0;34m=\u001b[0m \u001b[0mdz2\u001b[0m\u001b[0;34m.\u001b[0m\u001b[0mdot\u001b[0m\u001b[0;34m(\u001b[0m\u001b[0mself\u001b[0m\u001b[0;34m.\u001b[0m\u001b[0mw2\u001b[0m\u001b[0;34m.\u001b[0m\u001b[0mT\u001b[0m\u001b[0;34m)\u001b[0m\u001b[0;34m\u001b[0m\u001b[0;34m\u001b[0m\u001b[0m\n",
      "\u001b[0;32m~/miniconda3/lib/python3.8/site-packages/numpy/core/_methods.py\u001b[0m in \u001b[0;36m_mean\u001b[0;34m(a, axis, dtype, out, keepdims)\u001b[0m\n\u001b[1;32m    160\u001b[0m     \u001b[0mret\u001b[0m \u001b[0;34m=\u001b[0m \u001b[0mumr_sum\u001b[0m\u001b[0;34m(\u001b[0m\u001b[0marr\u001b[0m\u001b[0;34m,\u001b[0m \u001b[0maxis\u001b[0m\u001b[0;34m,\u001b[0m \u001b[0mdtype\u001b[0m\u001b[0;34m,\u001b[0m \u001b[0mout\u001b[0m\u001b[0;34m,\u001b[0m \u001b[0mkeepdims\u001b[0m\u001b[0;34m)\u001b[0m\u001b[0;34m\u001b[0m\u001b[0;34m\u001b[0m\u001b[0m\n\u001b[1;32m    161\u001b[0m     \u001b[0;32mif\u001b[0m \u001b[0misinstance\u001b[0m\u001b[0;34m(\u001b[0m\u001b[0mret\u001b[0m\u001b[0;34m,\u001b[0m \u001b[0mmu\u001b[0m\u001b[0;34m.\u001b[0m\u001b[0mndarray\u001b[0m\u001b[0;34m)\u001b[0m\u001b[0;34m:\u001b[0m\u001b[0;34m\u001b[0m\u001b[0;34m\u001b[0m\u001b[0m\n\u001b[0;32m--> 162\u001b[0;31m         ret = um.true_divide(\n\u001b[0m\u001b[1;32m    163\u001b[0m                 ret, rcount, out=ret, casting='unsafe', subok=False)\n\u001b[1;32m    164\u001b[0m         \u001b[0;32mif\u001b[0m \u001b[0mis_float16_result\u001b[0m \u001b[0;32mand\u001b[0m \u001b[0mout\u001b[0m \u001b[0;32mis\u001b[0m \u001b[0;32mNone\u001b[0m\u001b[0;34m:\u001b[0m\u001b[0;34m\u001b[0m\u001b[0;34m\u001b[0m\u001b[0m\n",
      "\u001b[0;31mKeyboardInterrupt\u001b[0m: "
     ]
    }
   ],
   "source": [
    "# Album\n",
    "\n",
    "quadratic_reconstruction = False\n",
    "NLLLoss_reconstruction = True\n",
    "\n",
    "if quadratic_reconstruction:\n",
    "    reconstruction_loss = QuadraticLoss()\n",
    "    epochs = 100000\n",
    "    learning_rate = 0.1\n",
    "\n",
    "    quadratic_images = np.empty((0, 28, 28))\n",
    "    quadratic_predictions = []\n",
    "    for i in range(10):\n",
    "        label = i\n",
    "        sol, res, _ = npmodel.reconstruct(label, epochs, reconstruction_loss, learning_rate)\n",
    "        quadratic_images = np.concatenate((quadratic_images, sol.reshape(1, 28, 28)))\n",
    "        quadratic_predictions.append(np.argmax(res))\n",
    "    quadratic_album = album(quadratic_images, 5)\n",
    "\n",
    "if NLLLoss_reconstruction:\n",
    "    reconstruction_loss = NLLLoss()\n",
    "    epochs = 100000\n",
    "    learning_rate = 0.1\n",
    "\n",
    "    NLLLoss_images = np.empty((0, 28, 28))\n",
    "    NLLLoss_predictions = []\n",
    "    for i in range(10):\n",
    "        label = i\n",
    "        sol, res, _ = npmodel.reconstruct(label, epochs, reconstruction_loss, learning_rate)\n",
    "        NLLLoss_images = np.concatenate((NLLLoss_images, sol.reshape(1, 28, 28)))\n",
    "        NLLLoss_predictions.append(np.argmax(res))\n",
    "    NLLLoss_album = album(NLLLoss_images, 5)\n"
   ]
  },
  {
   "cell_type": "code",
   "execution_count": null,
   "id": "lesbian-assembly",
   "metadata": {},
   "outputs": [],
   "source": [
    "imshow(NLLLoss_album)"
   ]
  },
  {
   "cell_type": "code",
   "execution_count": null,
   "id": "coordinated-quantity",
   "metadata": {},
   "outputs": [],
   "source": [
    "# plt.figure()\n",
    "# for i in range(300):\n",
    "#     plt.imshow(contrast(NLLLoss_images[2], i))\n",
    "#     plt.show()\n",
    "#     sleep(0.1)\n",
    "#     clear_output(wait=True)"
   ]
  },
  {
   "cell_type": "markdown",
   "id": "wireless-defense",
   "metadata": {},
   "source": [
    "# Trying to rule out noise"
   ]
  },
  {
   "cell_type": "code",
   "execution_count": 10,
   "id": "outside-guidance",
   "metadata": {},
   "outputs": [],
   "source": [
    "# Add new noise train data\n",
    "noise_train_data = (np.random.uniform(-1., 1., size=(6000, 28, 28))/28 + 128).astype(np.float32)\n",
    "\n",
    "X_train_noise = np.append(X_train, noise_train_data, axis=0)\n",
    "Y_train_noise = np.append(Y_train, np.ones(6000, dtype=np.uint8)*10)\n",
    "\n",
    "# Add new noise test data\n",
    "noise_test_data = (np.random.uniform(-1., 1., size=(1000, 28, 28))/28 + 128).astype(np.float32)\n",
    "\n",
    "X_test_noise = np.append(X_test, noise_test_data, axis=0)\n",
    "Y_test_noise = np.append(Y_test, np.ones(1000, dtype=np.uint8)*10)\n"
   ]
  },
  {
   "cell_type": "code",
   "execution_count": 11,
   "id": "compound-jefferson",
   "metadata": {},
   "outputs": [
    {
     "name": "stderr",
     "output_type": "stream",
     "text": [
      "100%|██████████| 1000/1000 [00:03<00:00, 317.85it/s]\n"
     ]
    },
    {
     "name": "stdout",
     "output_type": "stream",
     "text": [
      "Accuracy: 0.9654545454545455\n"
     ]
    },
    {
     "data": {
      "image/png": "[encoded data removed]",
      "text/plain": [
       "<Figure size 288x288 with 1 Axes>"
      ]
     },
     "metadata": {
      "needs_background": "light"
     },
     "output_type": "display_data"
    }
   ],
   "source": [
    "npmodel_noisy = NPClassifier(l2=11)\n",
    "\n",
    "batch_size = 128\n",
    "epochs = 1000\n",
    "learning_rate = 0.001\n",
    "loss_function = NLLLoss()\n",
    "\n",
    "inputs = X_train_noise.reshape(-1, 28*28)\n",
    "labels = Y_train_noise\n",
    "\n",
    "losses, accuracies = npmodel_noisy.train(inputs, labels, batch_size, epochs, loss_function, learning_rate)\n",
    "\n",
    "figsize(4, 4)\n",
    "plot(losses)\n",
    "plot(accuracies)\n",
    "\n",
    "print(f'Accuracy: {npmodel_noisy.test(X_test_noise, Y_test_noise)}')"
   ]
  },
  {
   "cell_type": "code",
   "execution_count": 13,
   "id": "automotive-glenn",
   "metadata": {},
   "outputs": [
    {
     "data": {
      "text/plain": [
       "array([10, 10, 10, 10, 10, 10, 10, 10, 10, 10, 10, 10, 10, 10, 10, 10, 10,\n",
       "       10, 10, 10])"
      ]
     },
     "execution_count": 13,
     "metadata": {},
     "output_type": "execute_result"
    }
   ],
   "source": [
    "# Verify that it really does distinguish noise\n",
    "\n",
    "np.argmax(npmodel_noisy(np.random.uniform(-1., 1., size=(20, 28*28))/28 + 128).astype(np.float32), axis=1)"
   ]
  },
  {
   "cell_type": "code",
   "execution_count": 15,
   "id": "inclusive-newark",
   "metadata": {},
   "outputs": [
    {
     "name": "stderr",
     "output_type": "stream",
     "text": [
      "100%|██████████| 100000/100000 [00:32<00:00, 3059.03it/s]\n"
     ]
    },
    {
     "data": {
      "text/plain": [
       "10"
      ]
     },
     "execution_count": 15,
     "metadata": {},
     "output_type": "execute_result"
    },
    {
     "data": {
      "image/png": "[encoded data removed]",
      "text/plain": [
       "<Figure size 288x288 with 1 Axes>"
      ]
     },
     "metadata": {
      "needs_background": "light"
     },
     "output_type": "display_data"
    },
    {
     "data": {
      "image/png": "[encoded data removed]",
      "text/plain": [
       "<Figure size 288x288 with 1 Axes>"
      ]
     },
     "metadata": {
      "needs_background": "light"
     },
     "output_type": "display_data"
    }
   ],
   "source": [
    "reconstruction_loss = NLLLoss()\n",
    "label = 7\n",
    "epochs = 200000\n",
    "learning_rate = 0.1\n",
    "\n",
    "sol, res, losses = npmodel_noisy.reconstruct(label, epochs, reconstruction_loss, learning_rate)\n",
    "\n",
    "plot(losses)\n",
    "figure()\n",
    "imshow(sol.reshape(28, 28))\n",
    "np.argmax(res)"
   ]
  },
  {
   "cell_type": "code",
   "execution_count": 16,
   "id": "flush-harvard",
   "metadata": {},
   "outputs": [
    {
     "data": {
      "image/png": "[encoded data removed]",
      "text/plain": [
       "<Figure size 288x288 with 1 Axes>"
      ]
     },
     "metadata": {
      "needs_background": "light"
     },
     "output_type": "display_data"
    }
   ],
   "source": [
    "# Album\n",
    "\n",
    "quadratic_reconstruction = False\n",
    "NLLLoss_reconstruction = True\n",
    "\n",
    "if quadratic_reconstruction:\n",
    "    reconstruction_loss = QuadraticLoss()\n",
    "    epochs = 1\n",
    "    learning_rate = 0.1\n",
    "\n",
    "    quadratic_images = np.empty((0, 28, 28))\n",
    "    quadratic_predictions = []\n",
    "    \n",
    "    for i in range(10):\n",
    "        label = i\n",
    "        sol, res, _ = npmodel_noisy.reconstruct(label, epochs, reconstruction_loss, learning_rate, frames=1, with_contrast=True)\n",
    "        quadratic_images = np.concatenate((quadratic_images, sol.reshape(1, 28, 28)))\n",
    "        quadratic_predictions.append(np.argmax(res))\n",
    "    quadratic_album = album(quadratic_images, 5)\n",
    "\n",
    "if NLLLoss_reconstruction:\n",
    "    reconstruction_loss = NLLLoss()\n",
    "    epochs = 5000\n",
    "    learning_rate = 0.1\n",
    "\n",
    "    NLLLoss_images = np.empty((0, 28, 28))\n",
    "    NLLLoss_predictions = []\n",
    "    \n",
    "    for i in range(10):\n",
    "        label = i\n",
    "        sol, res, _ = npmodel_noisy.reconstruct(label, epochs, reconstruction_loss, learning_rate, frames=50, with_contrast=True)\n",
    "        NLLLoss_images = np.concatenate((NLLLoss_images, sol.reshape(1, 28, 28)))\n",
    "        NLLLoss_predictions.append(np.argmax(res))\n",
    "        NLLLoss_album = album(NLLLoss_images, 5)\n"
   ]
  },
  {
   "cell_type": "code",
   "execution_count": 17,
   "id": "finished-freeze",
   "metadata": {},
   "outputs": [
    {
     "data": {
      "text/plain": [
       "<matplotlib.image.AxesImage at 0x7fb999ea29a0>"
      ]
     },
     "execution_count": 17,
     "metadata": {},
     "output_type": "execute_result"
    },
    {
     "data": {
      "image/png": "[encoded data removed]",
      "text/plain": [
       "<Figure size 1440x1440 with 1 Axes>"
      ]
     },
     "metadata": {
      "needs_background": "light"
     },
     "output_type": "display_data"
    }
   ],
   "source": [
    "figsize(20, 20)\n",
    "imshow(album(NLLLoss_images, 5, True))"
   ]
  },
  {
   "cell_type": "markdown",
   "id": "enclosed-williams",
   "metadata": {},
   "source": [
    "# Attempting to recreate a random mixture of the inputs"
   ]
  },
  {
   "cell_type": "code",
   "execution_count": null,
   "id": "technological-damages",
   "metadata": {},
   "outputs": [],
   "source": []
  }
 ],
 "metadata": {
  "kernelspec": {
   "display_name": "Python 3",
   "language": "python",
   "name": "python3"
  },
  "language_info": {
   "codemirror_mode": {
    "name": "ipython",
    "version": 3
   },
   "file_extension": ".py",
   "mimetype": "text/x-python",
   "name": "python",
   "nbconvert_exporter": "python",
   "pygments_lexer": "ipython3",
   "version": "3.8.5"
  }
 },
 "nbformat": 4,
 "nbformat_minor": 5
}
