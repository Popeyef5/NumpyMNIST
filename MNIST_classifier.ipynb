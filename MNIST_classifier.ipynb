{
 "cells": [
  {
   "cell_type": "code",
   "execution_count": 1,
   "metadata": {},
   "outputs": [
    {
     "name": "stdout",
     "output_type": "stream",
     "text": [
      "Populating the interactive namespace from numpy and matplotlib\n"
     ]
    }
   ],
   "source": [
    "%pylab inline\n",
    "%matplotlib inline\n",
    "from tqdm import trange\n",
    "import torch\n",
    "import torch.nn as nn\n",
    "import torch.nn.functional as F\n",
    "import torch.optim as optim\n",
    "import numpy as np\n",
    "np.set_printoptions(suppress=True)"
   ]
  },
  {
   "cell_type": "code",
   "execution_count": 2,
   "metadata": {},
   "outputs": [],
   "source": [
    "# Data import \n",
    "\n",
    "def fetch(url):\n",
    "    import requests, gzip, os, hashlib, numpy\n",
    "    path = os.path.join(os.getcwd(), hashlib.md5(url.encode('utf-8')).hexdigest())\n",
    "    if os.path.isfile(path):\n",
    "        with open(path, 'rb') as f:\n",
    "            dat = f.read()\n",
    "    else:\n",
    "        with open(path, 'wb') as f:\n",
    "            dat = requests.get(url).content\n",
    "            f.write(dat)\n",
    "    return numpy.frombuffer(gzip.decompress(dat), dtype=numpy.uint8).copy()\n",
    "\n",
    "X_train = fetch('http://yann.lecun.com/exdb/mnist/train-images-idx3-ubyte.gz')[0x10:].reshape((-1, 28, 28))\n",
    "Y_train = fetch('http://yann.lecun.com/exdb/mnist/train-labels-idx1-ubyte.gz')[8:]\n",
    "X_test = fetch('http://yann.lecun.com/exdb/mnist/t10k-images-idx3-ubyte.gz')[0x10:].reshape((-1, 28, 28))\n",
    "Y_test = fetch('http://yann.lecun.com/exdb/mnist/t10k-labels-idx1-ubyte.gz')[8:]"
   ]
  },
  {
   "cell_type": "code",
   "execution_count": 3,
   "metadata": {},
   "outputs": [],
   "source": [
    "# Torch NN definition\n",
    "\n",
    "class Classifier(nn.Module):\n",
    "    def __init__(self):\n",
    "        super(Classifier, self).__init__()\n",
    "        self.l1 = nn.Linear(784, 128)\n",
    "        self.l2 = nn.Linear(128, 10)\n",
    "        self.lsm = nn.LogSoftmax(dim=1)\n",
    "        \n",
    "    def forward(self, x, **kwargs):\n",
    "        x = self.l1(x)\n",
    "        x = F.relu(x)\n",
    "        x = self.l2(x)\n",
    "        x = self.lsm(x)\n",
    "        return x"
   ]
  },
  {
   "cell_type": "code",
   "execution_count": 4,
   "metadata": {},
   "outputs": [
    {
     "name": "stderr",
     "output_type": "stream",
     "text": [
      "  0%|          | 0/1000 [00:00<?, ?it/s]/home/gaston/miniconda3/lib/python3.8/site-packages/torch/autograd/__init__.py:130: UserWarning: CUDA initialization: Found no NVIDIA driver on your system. Please check that you have an NVIDIA GPU and installed a driver from http://www.nvidia.com/Download/index.aspx (Triggered internally at  /opt/conda/conda-bld/pytorch_1607369981906/work/c10/cuda/CUDAFunctions.cpp:100.)\n",
      "  Variable._execution_engine.run_backward(\n",
      "100%|██████████| 1000/1000 [00:02<00:00, 424.20it/s]\n"
     ]
    },
    {
     "name": "stdout",
     "output_type": "stream",
     "text": [
      "Accuracy:  0.9324\n"
     ]
    },
    {
     "data": {
      "image/png": "[encoded data removed]",
      "text/plain": [
       "<Figure size 432x288 with 1 Axes>"
      ]
     },
     "metadata": {
      "needs_background": "light"
     },
     "output_type": "display_data"
    }
   ],
   "source": [
    "# Torch NN instantiation and training\n",
    "\n",
    "model = Classifier()\n",
    "batch_size = 128\n",
    "epochs = 1000\n",
    "loss_function = nn.NLLLoss(reduction='none')\n",
    "optimizer = optim.SGD(model.parameters(), lr=0.001, momentum=0)\n",
    "\n",
    "losses = [] # For later plotting\n",
    "\n",
    "for i in trange(epochs):\n",
    "    samples_idx = np.random.randint(0, X_train.shape[0], size=batch_size)\n",
    "    X = torch.tensor(X_train[samples_idx].reshape((-1, 28*28))).float()\n",
    "    Y = torch.tensor(Y_train[samples_idx]).long()\n",
    "    model.zero_grad()\n",
    "    out = model(X)\n",
    "    loss = loss_function(out, Y)\n",
    "    loss = loss.mean()\n",
    "    loss.backward()\n",
    "    optimizer.step()\n",
    "    losses.append(loss.item())\n",
    "\n",
    "plt.plot(losses)\n",
    "\n",
    "out_test = torch.argmax(model(torch.tensor(X_test.reshape((-1, 28*28))).float()), dim=1).numpy()\n",
    "accuracy = (out_test == Y_test).mean()\n",
    "\n",
    "print(\"Accuracy: \", accuracy)\n",
    "\n",
    "    "
   ]
  },
  {
   "cell_type": "code",
   "execution_count": 5,
   "metadata": {},
   "outputs": [
    {
     "name": "stdout",
     "output_type": "stream",
     "text": [
      "Prediction:  5\n",
      "Actual value:  5\n"
     ]
    },
    {
     "data": {
      "image/png": "[encoded data removed]",
      "text/plain": [
       "<Figure size 432x288 with 1 Axes>"
      ]
     },
     "metadata": {
      "needs_background": "light"
     },
     "output_type": "display_data"
    }
   ],
   "source": [
    "rand_idx = np.random.randint(0, X_test.shape[0])\n",
    "imshow(X_test[rand_idx])\n",
    "print('Prediction: ', out_test[rand_idx])\n",
    "print('Actual value: ', Y_test[rand_idx])"
   ]
  },
  {
   "cell_type": "markdown",
   "metadata": {},
   "source": [
    "### NO PYTORCH ALLOWED FROM HERE ON"
   ]
  },
  {
   "cell_type": "code",
   "execution_count": 6,
   "metadata": {},
   "outputs": [],
   "source": [
    "# Layer function definition (a bit overkill, room for eventual improvement)\n",
    "\n",
    "import abc\n",
    "\n",
    "class LayerFunction:\n",
    "    __metaclass__ = abc.ABCMeta\n",
    "\n",
    "    def __call__(self, *args, **kwargs):\n",
    "        return self.evaluate(*args, **kwargs)\n",
    "        \n",
    "    @abc.abstractmethod\n",
    "    def evaluate(self, *args, **kwargs):\n",
    "        pass\n",
    "    \n",
    "    @abc.abstractmethod\n",
    "    def backprop(self):\n",
    "        pass\n",
    "\n",
    "\n",
    "# Activation function definition\n",
    "\n",
    "class ActivationFunction(LayerFunction):\n",
    "    \n",
    "    def __init__(self, axis=1):\n",
    "        self.axis = axis\n",
    "    \n",
    "\n",
    "class ReLU(ActivationFunction):\n",
    "    \n",
    "    def evaluate(self, x):\n",
    "        return np.maximum(x, 0)\n",
    "    \n",
    "    def backprop(self, dD, x):\n",
    "        return (x > 0).astype(int)*dD\n",
    "\n",
    "\n",
    "class LogSoftmax(ActivationFunction):\n",
    "        \n",
    "    def evaluate(self, x):\n",
    "        x = x - x.max(axis=self.axis).reshape(-1, 1)\n",
    "        x = x - np.log(np.sum(np.exp(x), axis=self.axis)).reshape(-1, 1)\n",
    "        return x\n",
    "            \n",
    "    def backprop(self, dD, x):\n",
    "        exp_lsm = np.exp(self.evaluate(x))\n",
    "        dLSM = dD - exp_lsm*dD.sum(axis=self.axis).reshape((-1, 1))\n",
    "        return dLSM\n",
    "    \n",
    "\n",
    "# Loss function definition\n",
    "\n",
    "class LossFunction(LayerFunction):\n",
    "\n",
    "    def __init__(self, axis=0):\n",
    "        self.axis = axis \n",
    "    \n",
    "\n",
    "class NLLLoss(LossFunction):\n",
    "    \n",
    "    def evaluate(self, x, labels):\n",
    "        if self.axis == 0:\n",
    "            return -np.mean(x[np.arange(x.shape[0]), labels])\n",
    "    \n",
    "    def backprop(self, x, y):\n",
    "        dx = np.zeros(x.shape, dtype=x.dtype)\n",
    "        if self.axis == 0:\n",
    "            dx[np.arange(x.shape[0]), y.T] = -1/len(y)\n",
    "        return dx"
   ]
  },
  {
   "cell_type": "code",
   "execution_count": 7,
   "metadata": {},
   "outputs": [],
   "source": [
    "# Model definition\n",
    "\n",
    "class NPClassifier:\n",
    "    def __init__(self, with_biases=False, dtype=np.float32):\n",
    "        self.with_biases = with_biases\n",
    "        \n",
    "        # For consistency\n",
    "        np.random.seed(1337)\n",
    "        \n",
    "        # Kaiming weigth initialization\n",
    "        # Uniform sampling\n",
    "        # https://github.com/pytorch/pytorch/blob/master/torch/nn/modules/linear.py#L44-L48\n",
    "        self.w1 = np.random.uniform(-1., 1., size=(28*28, 128))/np.sqrt(28*28*128).astype(dtype)\n",
    "        self.w2 = np.random.uniform(-1., 1., size=(128, 10))/np.sqrt(128*10).astype(dtype)\n",
    "                    \n",
    "        if with_biases:\n",
    "            # Uniform bias initialization\n",
    "            # https://github.com/pytorch/pytorch/blob/master/torch/nn/modules/linear.py#L44-L48\n",
    "            self.b1 = np.random.uniform(-1., 1., size=(1, 128))/np.sqrt(128).astype(dtype)\n",
    "            self.b2 = np.random.uniform(-1., 1., size=(1, 10))/np.sqrt(10).astype(dtype)\n",
    "        \n",
    "        # Layer activation functions\n",
    "        self.act1 = ReLU()\n",
    "        self.act2 = LogSoftmax()\n",
    "    \n",
    "    def __call__(self, x):\n",
    "        return self.forward(x)\n",
    "        \n",
    "    def forward(self, x):\n",
    "        x = x.dot(self.w1)\n",
    "        if self.with_biases:\n",
    "            x = x + self.b1\n",
    "        x = self.act1(x)\n",
    "        x = x.dot(self.w2)\n",
    "        if self.with_biases:\n",
    "            x = x + self.b2\n",
    "        x = self.act2(x)\n",
    "\n",
    "        return x\n",
    "    \n",
    "    def forward_backward(self, a0, y, loss_function):\n",
    "                    \n",
    "        # Forward pass\n",
    "        z1 = a0.dot(self.w1)\n",
    "        if self.with_biases:\n",
    "            z1 = z1 + self.b1\n",
    "        a1 = self.act1(z1)\n",
    "        z2 = a1.dot(self.w2)\n",
    "        if self.with_biases:\n",
    "            z2 = z2 + self.b2\n",
    "        a2 = self.act2(z2)\n",
    "        \n",
    "        # Loss and accuracy\n",
    "        loss = loss_function(a2, y)\n",
    "        accuracy = (np.argmax(a2, axis=1) == y).mean()\n",
    "\n",
    "        # Backward pass\n",
    "        da2 = loss_function.backprop(a2, y)\n",
    "        dz2 = self.act2.backprop(da2, z2)\n",
    "        db2 = dz2.mean(axis=0).reshape(1, 10) # Relevant\n",
    "        dw2 = a1.T.dot(dz2) # Relevant\n",
    "        da1 = dz2.dot(self.w2.T)\n",
    "        dz1 = self.act1.backprop(da1, z1)\n",
    "        db1 = dz1.mean(axis=0).reshape(1, 128) # Relevant\n",
    "        dw1 = a0.T.dot(dz1) # Relevant\n",
    "        da0 = dz1.dot(self.w1.T)\n",
    "        \n",
    "        # Return loss and gradients\n",
    "        grad = {'w1': dw1, 'w2': dw2, 'b1': db1, 'b2': db2}\n",
    "        return loss, accuracy, grad\n",
    "    \n",
    "    def step(self, lr, dw1, dw2, db1=None, db2=None):\n",
    "        self.w1 = self.w1 - dw1 * lr\n",
    "        self.w2 = self.w2 - dw2 * lr\n",
    "        if self.with_biases:\n",
    "            self.b1 = self.b1 - db1 * lr\n",
    "            self.b2 = self.b2 - db2 * lr\n",
    "    \n",
    "    def train(self, inputs, labels, batch_size, epochs, loss_function, learning_rate):\n",
    "        losses = []\n",
    "        accuracies = []\n",
    "        for i in trange(epochs):\n",
    "            samples = np.random.randint(0, inputs.shape[0], size=batch_size)\n",
    "            loss, acc, grad = self.forward_backward(inputs[samples], labels[samples], loss_function)\n",
    "            losses.append(loss)\n",
    "            accuracies.append(acc)\n",
    "            self.step(learning_rate, grad['w1'], grad['w2'], grad['b1'], grad['b2'])\n",
    "        return losses, accuracies\n",
    "    \n",
    "    def test(self, inputs, labels):\n",
    "        forward = np.argmax(self.forward(inputs.reshape((-1, 28*28))), 1)\n",
    "        return (forward == labels).mean()\n",
    "    \n",
    "    @classmethod\n",
    "    def from_weights(cls, w1, w2, b1=None, b2=None):\n",
    "        assert w1.shape == (28*28, 128) and w2.shape == (128, 10)\n",
    "        classifier = cls()\n",
    "        classifier.w1 = w1\n",
    "        classifier.w2 = w2\n",
    "        if b1 is not None and b2 is not None:\n",
    "            assert b1.shape == (1, 128) and b2.shape == (1, 10)\n",
    "            classifier.with_biases = True\n",
    "            classifier.b1 = b1\n",
    "            classifier.b2 = b2\n",
    "        return classifier        "
   ]
  },
  {
   "cell_type": "markdown",
   "metadata": {},
   "source": [
    "## PYTORCH V. PYTHON COMPARISON"
   ]
  },
  {
   "cell_type": "code",
   "execution_count": 9,
   "metadata": {
    "scrolled": true
   },
   "outputs": [
    {
     "name": "stdout",
     "output_type": "stream",
     "text": [
      "PyTorch:  [0 1 1 9 3 1 4 6 9 0 1 0 4 7 8 4 6 7 7 2]\n",
      "Python:   [0 1 1 9 3 1 4 6 9 0 1 0 4 7 8 4 6 7 7 2]\n",
      "Labels:   [0 1 1 9 3 1 4 6 9 0 7 0 4 7 8 4 6 8 7 2]\n",
      "\n",
      "Gradient averages are near zero:\n",
      " dw1:  0.0015623276182593847 db1:  -1.0326039e-08 dw2:  6.076942528791399e-06 db2:  -1.2514648e-10 \n",
      "\n",
      "Torch loss:  0.3299537 Numpy loss:  0.32995367\n"
     ]
    }
   ],
   "source": [
    "# Model comparison\n",
    "\n",
    "# Copy Classifier data into NPClassifier\n",
    "w1 = model.l1.weight.detach().numpy().T\n",
    "b1 = model.l1.bias.detach().numpy().reshape((-1, 128))\n",
    "w2 = model.l2.weight.detach().numpy().T\n",
    "b2 = model.l2.bias.detach().numpy().reshape((-1, 10))\n",
    "npmodel = NPClassifier.from_weights(w1, w2, b1=b1, b2=b2)\n",
    "\n",
    "# Compare predictions\n",
    "n = 20\n",
    "samples_idx = np.random.randint(0, X_test.shape[0], size=n)\n",
    "X_test_reshaped = X_test[samples_idx].reshape(-1, 28*28)\n",
    "out_model = np.argmax(model(torch.tensor(X_test_reshaped).float()).detach().numpy(), 1)\n",
    "out_npmodel = np.argmax(npmodel(X_test_reshaped), 1)\n",
    "\n",
    "print(\"PyTorch: \", out_model)\n",
    "print(\"Python:  \", out_npmodel)\n",
    "print(\"Labels:  \", Y_test[samples_idx])\n",
    "\n",
    "# Gradient of PyTorch trained weights and biases is near 0\n",
    "loss_function = NLLLoss()\n",
    "nploss, npacc, npgrad = npmodel.forward_backward(X_test_reshaped, Y_test[samples_idx], loss_function)\n",
    "print('\\nGradient averages are near zero:\\n',\n",
    "      'dw1: ', np.average(npgrad['w1']),\n",
    "      'db1: ', np.average(npgrad['w2']),\n",
    "      'dw2: ', np.average(npgrad['b1']),\n",
    "      'db2: ', np.average(npgrad['b2']),\n",
    "      '\\n')\n",
    "\n",
    "# Gradient equivalence\n",
    "model.zero_grad()\n",
    "out = model(torch.tensor(X_test_reshaped).float())\n",
    "loss_function = nn.NLLLoss(reduction='none')\n",
    "loss = loss_function(out, torch.tensor(Y_test[samples_idx]).long())\n",
    "loss = loss.mean()\n",
    "print(\"Torch loss: \", loss.detach().numpy(), \"Numpy loss: \", nploss)\n",
    "loss.backward()\n",
    "\n",
    "# Y_train[samples_idx].shape\n",
    "# figsize(4, 4)\n",
    "# imshow(dw1.T.reshape(256, 28*14))\n",
    "# figure()\n",
    "# imshow(model.l1.weight.grad.detach().numpy().reshape(256, 28*14))\n",
    "\n"
   ]
  },
  {
   "cell_type": "code",
   "execution_count": 10,
   "metadata": {
    "scrolled": true
   },
   "outputs": [
    {
     "name": "stderr",
     "output_type": "stream",
     "text": [
      "100%|██████████| 1000/1000 [00:02<00:00, 375.73it/s]\n"
     ]
    },
    {
     "name": "stdout",
     "output_type": "stream",
     "text": [
      "Accuracy: 0.9635\n"
     ]
    },
    {
     "data": {
      "image/png": "[encoded data removed]",
      "text/plain": [
       "<Figure size 288x288 with 1 Axes>"
      ]
     },
     "metadata": {
      "needs_background": "light"
     },
     "output_type": "display_data"
    }
   ],
   "source": [
    "npmodel = NPClassifier()\n",
    "\n",
    "batch_size = 128\n",
    "epochs = 1000\n",
    "learning_rate = 0.001\n",
    "loss_function = NLLLoss()\n",
    "\n",
    "inputs = X_train.reshape(-1, 28*28)\n",
    "labels = Y_train\n",
    "\n",
    "losses, accuracies = npmodel.train(inputs, labels, batch_size, epochs, loss_function, learning_rate)\n",
    "\n",
    "figsize(4, 4)\n",
    "plot(losses)\n",
    "plot(accuracies)\n",
    "\n",
    "print(f'Accuracy: {npmodel.test(X_test, Y_test)}')"
   ]
  },
  {
   "cell_type": "code",
   "execution_count": 12,
   "metadata": {},
   "outputs": [
    {
     "name": "stdout",
     "output_type": "stream",
     "text": [
      "PyTorch:  [7 4 7 9 9 3 9 2 8 8 7 9 5 4 1 5]\n",
      "Python:   [7 4 7 9 9 5 9 2 8 8 7 9 5 4 1 0]\n",
      "Labels:   [7 4 7 9 4 5 9 2 8 8 7 9 5 4 1 6]\n"
     ]
    },
    {
     "data": {
      "text/plain": [
       "<matplotlib.image.AxesImage at 0x7f46dd5f4cd0>"
      ]
     },
     "execution_count": 12,
     "metadata": {},
     "output_type": "execute_result"
    },
    {
     "data": {
      "image/png": "[encoded data removed]",
      "text/plain": [
       "<Figure size 288x288 with 1 Axes>"
      ]
     },
     "metadata": {
      "needs_background": "light"
     },
     "output_type": "display_data"
    }
   ],
   "source": [
    "# Compare predictions\n",
    "n = 4\n",
    "samples_idx = np.random.randint(0, X_test.shape[0], size=n*n)\n",
    "X_test_reshaped = X_test[samples_idx].reshape(-1, 28*28)\n",
    "out_model = np.argmax(model(torch.tensor(X_test_reshaped).float()).detach().numpy(), 1)\n",
    "out_npmodel = np.argmax(npmodel(X_test_reshaped), 1)\n",
    "\n",
    "print('PyTorch: ', out_model)\n",
    "print('Python:  ', out_npmodel)\n",
    "print('Labels:  ', Y_test[samples_idx])\n",
    "\n",
    "figsize(4, 4)\n",
    "imshow(np.concatenate(X_test[samples_idx].reshape(n, 28*n, 28), axis=1))\n"
   ]
  }
 ],
 "metadata": {
  "kernelspec": {
   "display_name": "Python 3",
   "language": "python",
   "name": "python3"
  },
  "language_info": {
   "codemirror_mode": {
    "name": "ipython",
    "version": 3
   },
   "file_extension": ".py",
   "mimetype": "text/x-python",
   "name": "python",
   "nbconvert_exporter": "python",
   "pygments_lexer": "ipython3",
   "version": "3.8.5"
  }
 },
 "nbformat": 4,
 "nbformat_minor": 2
}
