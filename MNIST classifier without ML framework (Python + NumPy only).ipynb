{
 "cells": [
  {
   "cell_type": "code",
   "execution_count": 11,
   "metadata": {},
   "outputs": [
    {
     "name": "stdout",
     "output_type": "stream",
     "text": [
      "Populating the interactive namespace from numpy and matplotlib\n"
     ]
    }
   ],
   "source": [
    "%pylab inline\n",
    "from tqdm import trange\n",
    "import torch\n",
    "import torch.nn as nn\n",
    "import torch.nn.functional as F\n",
    "import torch.optim as optim\n",
    "import numpy as np"
   ]
  },
  {
   "cell_type": "code",
   "execution_count": 42,
   "metadata": {},
   "outputs": [],
   "source": [
    "# Data import \n",
    "\n",
    "def fetch(url):\n",
    "    import requests, gzip, os, hashlib, numpy\n",
    "    path = os.path.join(os.getcwd(), hashlib.md5(url.encode('utf-8')).hexdigest())\n",
    "    if os.path.isfile(path):\n",
    "        with open(path, 'rb') as f:\n",
    "            dat = f.read()\n",
    "    else:\n",
    "        with open(path, 'wb') as f:\n",
    "            dat = requests.get(url).content\n",
    "            f.write(dat)\n",
    "    return numpy.frombuffer(gzip.decompress(dat), dtype=numpy.uint8).copy()\n",
    "\n",
    "X_train = fetch('http://yann.lecun.com/exdb/mnist/train-images-idx3-ubyte.gz')[0x10:].reshape((-1, 28, 28))\n",
    "Y_train = fetch('http://yann.lecun.com/exdb/mnist/train-labels-idx1-ubyte.gz')[8:]\n",
    "X_test = fetch('http://yann.lecun.com/exdb/mnist/t10k-images-idx3-ubyte.gz')[0x10:].reshape((-1, 28, 28))\n",
    "Y_test = fetch('http://yann.lecun.com/exdb/mnist/t10k-labels-idx1-ubyte.gz')[8:]"
   ]
  },
  {
   "cell_type": "code",
   "execution_count": 43,
   "metadata": {},
   "outputs": [],
   "source": [
    "# NN definition\n",
    "\n",
    "class Classifier(nn.Module):\n",
    "    def __init__(self):\n",
    "        super(Classifier, self).__init__()\n",
    "        self.l1 = nn.Linear(784, 128)\n",
    "        self.l2 = nn.Linear(128, 10)\n",
    "        self.lsm = nn.LogSoftmax(dim=1)\n",
    "        \n",
    "    def forward(self, x, **kwargs):\n",
    "        x = self.l1(x)\n",
    "        x = F.relu(x)\n",
    "        x = self.l2(x)\n",
    "        x = self.lsm(x)\n",
    "        return x"
   ]
  },
  {
   "cell_type": "code",
   "execution_count": 45,
   "metadata": {},
   "outputs": [
    {
     "name": "stderr",
     "output_type": "stream",
     "text": [
      "100%|██████████| 1000/1000 [00:00<00:00, 1525.58it/s]\n"
     ]
    },
    {
     "data": {
      "text/plain": [
       "[<matplotlib.lines.Line2D at 0x7f72b07d9d30>]"
      ]
     },
     "execution_count": 45,
     "metadata": {},
     "output_type": "execute_result"
    },
    {
     "data": {
      "image/png": "[encoded data removed]",
      "text/plain": [
       "<Figure size 576x576 with 1 Axes>"
      ]
     },
     "metadata": {
      "needs_background": "light"
     },
     "output_type": "display_data"
    }
   ],
   "source": [
    "# NN instantiation\n",
    "\n",
    "model = Classifier()\n",
    "batch_size = 128\n",
    "epochs = 1000\n",
    "loss_function = nn.NLLLoss(reduction='none')\n",
    "optimizer = optim.SGD(model.parameters(), lr=0.001, momentum=0)\n",
    "\n",
    "losses = [] # For later plotting\n",
    "\n",
    "for i in trange(epochs):\n",
    "    samples_idx = np.random.randint(0, X_train.shape[0], size=batch_size)\n",
    "    X = torch.tensor(X_train[samples_idx].reshape((-1, 28*28))).float()\n",
    "    Y = torch.tensor(Y_train[samples_idx]).long()\n",
    "    model.zero_grad()\n",
    "    out = model(X)\n",
    "    loss = loss_function(out, Y)\n",
    "    loss = loss.mean()\n",
    "    loss.backward()\n",
    "    optimizer.step()\n",
    "    losses.append(loss.item())\n",
    "\n",
    "plot(losses)\n",
    "    "
   ]
  },
  {
   "cell_type": "code",
   "execution_count": 46,
   "metadata": {},
   "outputs": [
    {
     "data": {
      "text/plain": [
       "0.9315"
      ]
     },
     "execution_count": 46,
     "metadata": {},
     "output_type": "execute_result"
    }
   ],
   "source": [
    "out_test = torch.argmax(model(torch.tensor(X_test.reshape((-1, 28*28))).float()), dim=1).numpy()\n",
    "accuracy = (out_test == Y_test).mean()\n",
    "accuracy"
   ]
  },
  {
   "cell_type": "code",
   "execution_count": 47,
   "metadata": {},
   "outputs": [
    {
     "name": "stdout",
     "output_type": "stream",
     "text": [
      "Prediction:  2\n",
      "Actual value:  2\n"
     ]
    },
    {
     "data": {
      "image/png": "[encoded data removed]",
      "text/plain": [
       "<Figure size 576x576 with 1 Axes>"
      ]
     },
     "metadata": {
      "needs_background": "light"
     },
     "output_type": "display_data"
    }
   ],
   "source": [
    "rand_idx = np.random.randint(0, X_test.shape[0])\n",
    "imshow(X_test[rand_idx])\n",
    "print('Prediction: ', out_test[rand_idx])\n",
    "print('Actual value: ', Y_test[rand_idx])"
   ]
  },
  {
   "cell_type": "code",
   "execution_count": 48,
   "metadata": {},
   "outputs": [],
   "source": [
    "### NO PYTORCH ALLOWED FROM HERE ON ###"
   ]
  },
  {
   "cell_type": "code",
   "execution_count": 49,
   "metadata": {},
   "outputs": [],
   "source": [
    "# Helper functions\n",
    "\n",
    "def dot(a, b):\n",
    "    d = a.dot(b)\n",
    "    if len(b.shape) == 3:\n",
    "        if len(a.shape) == 2:\n",
    "            d = d.swapaxes(0, 1)\n",
    "        elif len(a.shape) == 3:\n",
    "            assert a.shape[0] == b.shape[0]\n",
    "            d = d.swapaxes(1, 2)[np.arange(a.shape[0]), np.arange(a.shape[0])]\n",
    "    return d"
   ]
  },
  {
   "cell_type": "code",
   "execution_count": 84,
   "metadata": {},
   "outputs": [],
   "source": [
    "# Layer function definition\n",
    "\n",
    "import abc\n",
    "\n",
    "class LayerFunction:\n",
    "    __metaclass__ = abc.ABCMeta\n",
    "\n",
    "    def __call__(self, x, **kwargs):\n",
    "        return self.evaluate(x, **kwargs)\n",
    "        \n",
    "    @abc.abstractmethod\n",
    "    def evaluate(self, x, **kwargs):\n",
    "        pass\n",
    "    \n",
    "    @abc.abstractmethod\n",
    "    def backprop(self, x, dD):\n",
    "        pass\n",
    "\n",
    "\n",
    "# Activation function definition\n",
    "\n",
    "class ActivationFunction(LayerFunction):\n",
    "    \n",
    "    def __init__(self, axis=1):\n",
    "        self.axis = axis\n",
    "    \n",
    "\n",
    "class ReLU(ActivationFunction):\n",
    "    \n",
    "    def evaluate(self, x, **kwargs):\n",
    "        return np.maximum(x, 0)\n",
    "    \n",
    "    def backprop(self, x, dD):\n",
    "        return (x > 0).astype(int)*dD\n",
    "\n",
    "\n",
    "class LogSoftmax(ActivationFunction):\n",
    "        \n",
    "    def evaluate(self, x, **kwargs):\n",
    "        if len(x.shape) == 2:\n",
    "            x = x - x.max()\n",
    "            x = x - np.log(np.exp(x).sum()).reshape(-1, 1)\n",
    "        elif len(x.shape) == 3:\n",
    "            x = x - x.max(1).reshape(-1, 1, 1)\n",
    "            x = x - np.log(np.exp(x).sum(1)).reshape(-1, 1, 1)\n",
    "        return x\n",
    "            \n",
    "    def backprop(self, dD, inputs=None, outputs=None):\n",
    "        if outputs is not None:\n",
    "            exp_lsm = np.exp(outputs)\n",
    "        elif inputs is not None:\n",
    "            exp_lsm = np.exp(self(inputs))\n",
    "        dLSM = dD - exp_lsm*dD.sum(axis=self.axis)\n",
    "        return dLSM\n",
    "    \n",
    "\n",
    "# Loss function definition\n",
    "\n",
    "class LossFunction(LayerFunction):\n",
    "\n",
    "    def __init__(self, axis=0):\n",
    "        self.axis = axis #UNUSED\n",
    "    \n",
    "\n",
    "class NLLLoss(LossFunction):\n",
    "    \n",
    "    def evaluate(self, x, **kwargs):\n",
    "        if self.axis == 0:\n",
    "            return -np.average(x[np.arange(x.shape[0]), kwargs['labels']])\n",
    "    \n",
    "    def backprop(self, x, y):\n",
    "        dx = np.zeros(x.shape, dtype=x.dtype)\n",
    "        if self.axis == 0:\n",
    "            dx[np.arange(x.shape[0]), y.T] = -1\n",
    "        return dx"
   ]
  },
  {
   "cell_type": "code",
   "execution_count": 85,
   "metadata": {},
   "outputs": [],
   "source": [
    "# Model definition\n",
    "\n",
    "class NPClassifier:\n",
    "    def __init__(self, uniform=True, with_biases=False, dtype=np.float32):\n",
    "        self.with_biases = with_biases\n",
    "        \n",
    "        # Kaiming weigth initialization\n",
    "        if uniform:\n",
    "            # Uniform sampling\n",
    "            # https://github.com/pytorch/pytorch/blob/master/torch/nn/modules/linear.py#L44-L48\n",
    "            self.w1 = np.random.uniform(-1., 1., size=(28*28, 128))/np.sqrt(28*28*128).astype(dtype)\n",
    "            self.w2 = np.random.uniform(-1., 1., size=(128, 10))/np.sqrt(128*10).astype(dtype)\n",
    "        else:\n",
    "            # Normal sampling \n",
    "            # https://towardsdatascience.com/weight-initialization-in-neural-networks-a-journey-from-the-basics-to-kaiming-954fb9b47c79\n",
    "            self.w1 = np.random.randn(28*28, 128)/np.sqrt(1/(28*28*128)).astype(dtype)\n",
    "            self.w2 = np.random.randn(128, 10)/np.sqrt(1/128*10).astype(dtype)\n",
    "            \n",
    "        if with_biases:\n",
    "            # Uniform bias initialization\n",
    "            # https://github.com/pytorch/pytorch/blob/master/torch/nn/modules/linear.py#L44-L48\n",
    "            self.b1 = np.random.uniform(-1., 1., size=(1, 128))/np.sqrt(128).astype(dtype)\n",
    "            self.b2 = np.random.uniform(-1., 1., size=(1, 10))/np.sqrt(10).astype(dtype)\n",
    "        \n",
    "        # Layer activation functions\n",
    "        self.act1 = ReLU()\n",
    "        self.act2 = LogSoftmax()\n",
    "    \n",
    "    def __call__(self, x):\n",
    "        return self.forward(x)\n",
    "    \n",
    "    @classmethod\n",
    "    def from_weights(cls, w1, w2, b1=None, b2=None):\n",
    "        assert w1.shape == (28*28, 128) and w2.shape == (128, 10)\n",
    "        classifier = cls()\n",
    "        classifier.w1 = w1\n",
    "        classifier.w2 = w2\n",
    "        if b1 is not None and b2 is not None:\n",
    "            assert b1.shape == (1, 128) and b2.shape == (1, 10)\n",
    "            classifier.with_biases = True\n",
    "            classifier.b1 = b1\n",
    "            classifier.b2 = b2\n",
    "        return classifier\n",
    "        \n",
    "    def forward(self, x):\n",
    "        x = x.dot(self.w1)\n",
    "        if self.with_biases:\n",
    "            x = x + self.b1\n",
    "        x = self.act1(x)\n",
    "        x = x.dot(self.w2)\n",
    "        if self.with_biases:\n",
    "            x = x + self.b2\n",
    "        x = self.act2(x)\n",
    "        return x\n",
    "    \n",
    "    def forward_backward(self, x, y, loss_function):\n",
    "                    \n",
    "        # Forward pass\n",
    "        z1 = x.dot(self.w1)\n",
    "        if self.with_biases:\n",
    "            z1 = z1 + self.b1\n",
    "        a1 = self.act1(z1)\n",
    "        z2 = a1.dot(self.w2)\n",
    "        if self.with_biases:\n",
    "            z2 = z2 + self.b2\n",
    "        a2 = self.act2(z2)\n",
    "        loss = loss_function(a2, labels=y)\n",
    "                \n",
    "        # Backward pass\n",
    "        da2 = loss_function.backprop(a2, y)\n",
    "        dz2 = self.act2.backprop(z2, da2)\n",
    "        db2 = dz2 # Relevant (returns only if with_biases)\n",
    "        dw2 = a1.T.dot(dz2) # Relevant\n",
    "        da1 = dz2.dot(w2.T)\n",
    "        dz1 = self.act1.backprop(z1, da1)\n",
    "        db1 = dz1 # Relevant (returns only if with_biases)\n",
    "        dw1 = x.T.dot(dz1) # Relevant\n",
    "        \n",
    "        # Return loss and gradients\n",
    "        return loss, dw1, dw2, db1, db2\n",
    "    \n",
    "    def step(self, lr, dw1, dw2, db1=None, db2=None):\n",
    "        self.w1 = self.w1 - dw1 * lr\n",
    "        self.w2 = self.w2 - dw2 * lr\n",
    "        if self.with_biases:\n",
    "            self.b1 = self.b1 - db1 * lr\n",
    "            self.b2 = self.b2 - db2 * lr\n",
    "    \n",
    "    def train(self, inputs, labels, batch_size, epochs, loss_function, learning_rate):\n",
    "        losses = []\n",
    "        for i in (t := trange(epochs)):\n",
    "            samples = np.random.randint(0, inputs.shape[0], size=batch_size)\n",
    "            loss, dw1, db1, dw2, db2 = self.forward_backward(inputs[samples], labels[samples], loss_function)\n",
    "            losses.append(loss)\n",
    "            self.step(dw1, db1, dw2, db2, learning_rate)\n",
    "        return losses\n",
    "    \n",
    "    def test(self, inputs, labels):\n",
    "        forward = np.argmax(self.forward(inputs.reshape((-1, 28*28))), 1).reshape(-1, 1)\n",
    "        return (forward == labels.reshape(-1, 1)).mean()"
   ]
  },
  {
   "cell_type": "code",
   "execution_count": 86,
   "metadata": {},
   "outputs": [],
   "source": [
    "### PYTORCH V. PYTHON COMPARISON ###"
   ]
  },
  {
   "cell_type": "code",
   "execution_count": 87,
   "metadata": {
    "scrolled": true
   },
   "outputs": [
    {
     "name": "stdout",
     "output_type": "stream",
     "text": [
      "PyTorch:  [1 6 1 6 2 7 7 8 3 4 7 3 0 4 8 1 3 0 3 6]\n",
      "Python:   [12  2  2 18 13 13  1  6  7 13]\n",
      "Labels:   [1 6 1 6 2 7 7 8 3 9 7 3 0 4 3 1 3 0 3 2]\n"
     ]
    },
    {
     "ename": "ValueError",
     "evalue": "operands could not be broadcast together with shapes (20,10) (20,) ",
     "output_type": "error",
     "traceback": [
      "\u001b[0;31m---------------------------------------------------------------------------\u001b[0m",
      "\u001b[0;31mValueError\u001b[0m                                Traceback (most recent call last)",
      "\u001b[0;32m<ipython-input-87-6e78ccc3fcc0>\u001b[0m in \u001b[0;36m<module>\u001b[0;34m\u001b[0m\n\u001b[1;32m     21\u001b[0m \u001b[0;31m# Gradient of PyTorch trained weights and biases is near 0\u001b[0m\u001b[0;34m\u001b[0m\u001b[0;34m\u001b[0m\u001b[0;34m\u001b[0m\u001b[0m\n\u001b[1;32m     22\u001b[0m \u001b[0mloss_function\u001b[0m \u001b[0;34m=\u001b[0m \u001b[0mNLLLoss\u001b[0m\u001b[0;34m(\u001b[0m\u001b[0;34m)\u001b[0m\u001b[0;34m\u001b[0m\u001b[0;34m\u001b[0m\u001b[0m\n\u001b[0;32m---> 23\u001b[0;31m \u001b[0mnploss\u001b[0m\u001b[0;34m,\u001b[0m \u001b[0mdw1\u001b[0m\u001b[0;34m,\u001b[0m \u001b[0mdb1\u001b[0m\u001b[0;34m,\u001b[0m \u001b[0mdw2\u001b[0m\u001b[0;34m,\u001b[0m \u001b[0mdb2\u001b[0m \u001b[0;34m=\u001b[0m \u001b[0mnpmodel\u001b[0m\u001b[0;34m.\u001b[0m\u001b[0mforward_backward\u001b[0m\u001b[0;34m(\u001b[0m\u001b[0mX_test_reshaped\u001b[0m\u001b[0;34m,\u001b[0m \u001b[0mY_test\u001b[0m\u001b[0;34m[\u001b[0m\u001b[0msamples_idx\u001b[0m\u001b[0;34m]\u001b[0m\u001b[0;34m,\u001b[0m \u001b[0mloss_function\u001b[0m\u001b[0;34m)\u001b[0m\u001b[0;34m\u001b[0m\u001b[0;34m\u001b[0m\u001b[0m\n\u001b[0m\u001b[1;32m     24\u001b[0m \u001b[0mprint\u001b[0m\u001b[0;34m(\u001b[0m\u001b[0;34m'\\nGradient averages \\ndw1: '\u001b[0m\u001b[0;34m,\u001b[0m \u001b[0mnp\u001b[0m\u001b[0;34m.\u001b[0m\u001b[0maverage\u001b[0m\u001b[0;34m(\u001b[0m\u001b[0mdw1\u001b[0m\u001b[0;34m)\u001b[0m\u001b[0;34m,\u001b[0m \u001b[0;34m'db1: '\u001b[0m\u001b[0;34m,\u001b[0m \u001b[0mnp\u001b[0m\u001b[0;34m.\u001b[0m\u001b[0maverage\u001b[0m\u001b[0;34m(\u001b[0m\u001b[0mdb1\u001b[0m\u001b[0;34m)\u001b[0m\u001b[0;34m,\u001b[0m \u001b[0;34m'dw2: '\u001b[0m\u001b[0;34m,\u001b[0m \u001b[0mnp\u001b[0m\u001b[0;34m.\u001b[0m\u001b[0maverage\u001b[0m\u001b[0;34m(\u001b[0m\u001b[0mdw2\u001b[0m\u001b[0;34m)\u001b[0m\u001b[0;34m,\u001b[0m \u001b[0;34m'db2: '\u001b[0m\u001b[0;34m,\u001b[0m \u001b[0mnp\u001b[0m\u001b[0;34m.\u001b[0m\u001b[0maverage\u001b[0m\u001b[0;34m(\u001b[0m\u001b[0mdb2\u001b[0m\u001b[0;34m)\u001b[0m\u001b[0;34m,\u001b[0m \u001b[0;34m'\\n'\u001b[0m\u001b[0;34m)\u001b[0m\u001b[0;34m\u001b[0m\u001b[0;34m\u001b[0m\u001b[0m\n\u001b[1;32m     25\u001b[0m \u001b[0;34m\u001b[0m\u001b[0m\n",
      "\u001b[0;32m<ipython-input-85-7fb6803093e1>\u001b[0m in \u001b[0;36mforward_backward\u001b[0;34m(self, x, y, loss_function)\u001b[0m\n\u001b[1;32m     69\u001b[0m         \u001b[0;31m# Backward pass\u001b[0m\u001b[0;34m\u001b[0m\u001b[0;34m\u001b[0m\u001b[0;34m\u001b[0m\u001b[0m\n\u001b[1;32m     70\u001b[0m         \u001b[0mda2\u001b[0m \u001b[0;34m=\u001b[0m \u001b[0mloss_function\u001b[0m\u001b[0;34m.\u001b[0m\u001b[0mbackprop\u001b[0m\u001b[0;34m(\u001b[0m\u001b[0ma2\u001b[0m\u001b[0;34m,\u001b[0m \u001b[0my\u001b[0m\u001b[0;34m)\u001b[0m\u001b[0;34m\u001b[0m\u001b[0;34m\u001b[0m\u001b[0m\n\u001b[0;32m---> 71\u001b[0;31m         \u001b[0mdz2\u001b[0m \u001b[0;34m=\u001b[0m \u001b[0mself\u001b[0m\u001b[0;34m.\u001b[0m\u001b[0mact2\u001b[0m\u001b[0;34m.\u001b[0m\u001b[0mbackprop\u001b[0m\u001b[0;34m(\u001b[0m\u001b[0mz2\u001b[0m\u001b[0;34m,\u001b[0m \u001b[0mda2\u001b[0m\u001b[0;34m)\u001b[0m\u001b[0;34m\u001b[0m\u001b[0;34m\u001b[0m\u001b[0m\n\u001b[0m\u001b[1;32m     72\u001b[0m         \u001b[0mdb2\u001b[0m \u001b[0;34m=\u001b[0m \u001b[0mdz2\u001b[0m \u001b[0;31m# Relevant (returns only if with_biases)\u001b[0m\u001b[0;34m\u001b[0m\u001b[0;34m\u001b[0m\u001b[0m\n\u001b[1;32m     73\u001b[0m         \u001b[0mdw2\u001b[0m \u001b[0;34m=\u001b[0m \u001b[0ma1\u001b[0m\u001b[0;34m.\u001b[0m\u001b[0mT\u001b[0m\u001b[0;34m.\u001b[0m\u001b[0mdot\u001b[0m\u001b[0;34m(\u001b[0m\u001b[0mdz2\u001b[0m\u001b[0;34m)\u001b[0m \u001b[0;31m# Relevant\u001b[0m\u001b[0;34m\u001b[0m\u001b[0;34m\u001b[0m\u001b[0m\n",
      "\u001b[0;32m<ipython-input-84-e0eef9ba5742>\u001b[0m in \u001b[0;36mbackprop\u001b[0;34m(self, dD, inputs, outputs)\u001b[0m\n\u001b[1;32m     51\u001b[0m         \u001b[0;32melif\u001b[0m \u001b[0minputs\u001b[0m \u001b[0;32mis\u001b[0m \u001b[0;32mnot\u001b[0m \u001b[0;32mNone\u001b[0m\u001b[0;34m:\u001b[0m\u001b[0;34m\u001b[0m\u001b[0;34m\u001b[0m\u001b[0m\n\u001b[1;32m     52\u001b[0m             \u001b[0mexp_lsm\u001b[0m \u001b[0;34m=\u001b[0m \u001b[0mnp\u001b[0m\u001b[0;34m.\u001b[0m\u001b[0mexp\u001b[0m\u001b[0;34m(\u001b[0m\u001b[0mself\u001b[0m\u001b[0;34m(\u001b[0m\u001b[0minputs\u001b[0m\u001b[0;34m)\u001b[0m\u001b[0;34m)\u001b[0m\u001b[0;34m\u001b[0m\u001b[0;34m\u001b[0m\u001b[0m\n\u001b[0;32m---> 53\u001b[0;31m         \u001b[0mdLSM\u001b[0m \u001b[0;34m=\u001b[0m \u001b[0mdD\u001b[0m \u001b[0;34m-\u001b[0m \u001b[0mexp_lsm\u001b[0m\u001b[0;34m*\u001b[0m\u001b[0mdD\u001b[0m\u001b[0;34m.\u001b[0m\u001b[0msum\u001b[0m\u001b[0;34m(\u001b[0m\u001b[0maxis\u001b[0m\u001b[0;34m=\u001b[0m\u001b[0mself\u001b[0m\u001b[0;34m.\u001b[0m\u001b[0maxis\u001b[0m\u001b[0;34m)\u001b[0m\u001b[0;34m\u001b[0m\u001b[0;34m\u001b[0m\u001b[0m\n\u001b[0m\u001b[1;32m     54\u001b[0m         \u001b[0;32mreturn\u001b[0m \u001b[0mdLSM\u001b[0m\u001b[0;34m\u001b[0m\u001b[0;34m\u001b[0m\u001b[0m\n\u001b[1;32m     55\u001b[0m \u001b[0;34m\u001b[0m\u001b[0m\n",
      "\u001b[0;31mValueError\u001b[0m: operands could not be broadcast together with shapes (20,10) (20,) "
     ]
    }
   ],
   "source": [
    "# Model comparison\n",
    "\n",
    "# Copy Classifier data into NPClassifier\n",
    "w1 = model.l1.weight.detach().numpy().T\n",
    "b1 = model.l1.bias.detach().numpy().reshape((-1, 128))\n",
    "w2 = model.l2.weight.detach().numpy().T\n",
    "b2 = model.l2.bias.detach().numpy().reshape((-1, 10))\n",
    "npmodel = NPClassifier.from_weights(w1, w2, b1, b2)\n",
    "\n",
    "# Compare predictions\n",
    "n = 20\n",
    "samples_idx = np.random.randint(0, X_test.shape[0], size=n)\n",
    "X_test_reshaped = X_test[samples_idx].reshape(-1, 28*28)\n",
    "out_model = np.argmax(model(torch.tensor(X_test_reshaped).float()).detach().numpy(), 1)\n",
    "out_npmodel = np.argmax(npmodel(X_test_reshaped), 0)\n",
    "\n",
    "print('PyTorch: ', out_model)\n",
    "print('Python:  ', out_npmodel)\n",
    "print('Labels:  ', Y_test[samples_idx])\n",
    "\n",
    "# Gradient of PyTorch trained weights and biases is near 0\n",
    "loss_function = NLLLoss()\n",
    "nploss, dw1, db1, dw2, db2 = npmodel.forward_backward(X_test_reshaped, Y_test[samples_idx], loss_function)\n",
    "print('\\nGradient averages \\ndw1: ', np.average(dw1), 'db1: ', np.average(db1), 'dw2: ', np.average(dw2), 'db2: ', np.average(db2), '\\n')\n",
    "\n",
    "# Gradient equivalence\n",
    "model.zero_grad()\n",
    "out = model(torch.tensor(X_test_reshaped).float())\n",
    "loss_function = nn.NLLLoss(reduction='none')\n",
    "loss = loss_function(out, torch.tensor(Y_test[samples_idx]).long())\n",
    "loss = loss.mean()\n",
    "print(loss, nploss)\n",
    "loss.backward()\n",
    "\n",
    "Y_train[samples_idx].shape\n",
    "# figsize(8, 8)\n",
    "# imshow(np.average(dw1, axis=0).reshape(256, 28*14))\n",
    "# figure()\n",
    "# imshow(model.l1.weight.grad.detach().numpy().reshape(256, 28*14))"
   ]
  },
  {
   "cell_type": "code",
   "execution_count": 67,
   "metadata": {
    "scrolled": false
   },
   "outputs": [
    {
     "name": "stderr",
     "output_type": "stream",
     "text": [
      "\r",
      "  0%|          | 0/10 [00:00<?, ?it/s]"
     ]
    },
    {
     "name": "stdout",
     "output_type": "stream",
     "text": [
      "X shape: (64, 784)\n"
     ]
    },
    {
     "name": "stderr",
     "output_type": "stream",
     "text": [
      "\r",
      " 10%|█         | 1/10 [00:06<00:58,  6.55s/it]"
     ]
    },
    {
     "name": "stdout",
     "output_type": "stream",
     "text": [
      "X shape: (64, 784)\n"
     ]
    },
    {
     "name": "stderr",
     "output_type": "stream",
     "text": [
      "\r",
      " 20%|██        | 2/10 [00:13<00:52,  6.56s/it]"
     ]
    },
    {
     "name": "stdout",
     "output_type": "stream",
     "text": [
      "X shape: (64, 784)\n"
     ]
    },
    {
     "name": "stderr",
     "output_type": "stream",
     "text": [
      "\r",
      " 30%|███       | 3/10 [00:19<00:45,  6.55s/it]"
     ]
    },
    {
     "name": "stdout",
     "output_type": "stream",
     "text": [
      "X shape: (64, 784)\n"
     ]
    },
    {
     "name": "stderr",
     "output_type": "stream",
     "text": [
      "\r",
      " 40%|████      | 4/10 [00:26<00:39,  6.55s/it]"
     ]
    },
    {
     "name": "stdout",
     "output_type": "stream",
     "text": [
      "X shape: (64, 784)\n"
     ]
    },
    {
     "name": "stderr",
     "output_type": "stream",
     "text": [
      "\r",
      " 50%|█████     | 5/10 [00:32<00:32,  6.56s/it]"
     ]
    },
    {
     "name": "stdout",
     "output_type": "stream",
     "text": [
      "X shape: (64, 784)\n"
     ]
    },
    {
     "name": "stderr",
     "output_type": "stream",
     "text": [
      "\r",
      " 60%|██████    | 6/10 [00:39<00:26,  6.57s/it]"
     ]
    },
    {
     "name": "stdout",
     "output_type": "stream",
     "text": [
      "X shape: (64, 784)\n"
     ]
    },
    {
     "name": "stderr",
     "output_type": "stream",
     "text": [
      "\r",
      " 70%|███████   | 7/10 [00:46<00:19,  6.58s/it]"
     ]
    },
    {
     "name": "stdout",
     "output_type": "stream",
     "text": [
      "X shape: (64, 784)\n"
     ]
    },
    {
     "name": "stderr",
     "output_type": "stream",
     "text": [
      "\r",
      " 80%|████████  | 8/10 [00:52<00:13,  6.57s/it]"
     ]
    },
    {
     "name": "stdout",
     "output_type": "stream",
     "text": [
      "X shape: (64, 784)\n"
     ]
    },
    {
     "name": "stderr",
     "output_type": "stream",
     "text": [
      "\r",
      " 90%|█████████ | 9/10 [00:59<00:06,  6.55s/it]"
     ]
    },
    {
     "name": "stdout",
     "output_type": "stream",
     "text": [
      "X shape: (64, 784)\n"
     ]
    },
    {
     "name": "stderr",
     "output_type": "stream",
     "text": [
      "100%|██████████| 10/10 [01:05<00:00,  6.56s/it]\n"
     ]
    },
    {
     "data": {
      "text/plain": [
       "[<matplotlib.lines.Line2D at 0x7f72b0a70ac0>]"
      ]
     },
     "execution_count": 67,
     "metadata": {},
     "output_type": "execute_result"
    },
    {
     "data": {
      "image/png": "[encoded data removed]",
      "text/plain": [
       "<Figure size 576x576 with 1 Axes>"
      ]
     },
     "metadata": {
      "needs_background": "light"
     },
     "output_type": "display_data"
    }
   ],
   "source": [
    "npmodel = NPClassifier()\n",
    "\n",
    "batch_size = 64\n",
    "epochs = 10\n",
    "learning_rate = 0.001\n",
    "loss_function = NLLLoss()\n",
    "\n",
    "inputs = X_train.reshape(-1, 28*28)\n",
    "labels = Y_train.reshape(-1, 1)\n",
    "\n",
    "losses = npmodel.train(inputs, labels, batch_size, epochs, loss_function, learning_rate)\n",
    "\n",
    "plot(losses)"
   ]
  },
  {
   "cell_type": "code",
   "execution_count": 41,
   "metadata": {},
   "outputs": [
    {
     "name": "stdout",
     "output_type": "stream",
     "text": [
      "PyTorch:  [3 5 6 2 4 4 7 1 3 2 5 6 7 8 1 4]\n",
      "Python:   [8 5 0 2 4 9 9 1 2 2 5 0 7 8 1 4]\n",
      "Labels:   [3 5 6 2 4 9 9 1 3 3 5 6 9 8 1 4]\n"
     ]
    },
    {
     "data": {
      "text/plain": [
       "<matplotlib.image.AxesImage at 0x7f9fd0d85160>"
      ]
     },
     "execution_count": 41,
     "metadata": {},
     "output_type": "execute_result"
    },
    {
     "data": {
      "image/png": "[encoded data removed]",
      "text/plain": [
       "<Figure size 864x864 with 1 Axes>"
      ]
     },
     "metadata": {
      "needs_background": "light"
     },
     "output_type": "display_data"
    }
   ],
   "source": [
    "# Compare predictions\n",
    "n = 4\n",
    "samples_idx = np.random.randint(0, X_test.shape[0], size=n*n)\n",
    "X_test_reshaped = X_test[samples_idx].reshape(-1, 28*28)\n",
    "out_model = np.argmax(model(torch.tensor(X_test_reshaped).float()).detach().numpy(), 1)\n",
    "out_npmodel = np.argmax(npmodel(X_test_reshaped.T), 0)\n",
    "\n",
    "print('PyTorch: ', out_model)\n",
    "print('Python:  ', out_npmodel)\n",
    "print('Labels:  ', Y_test[samples_idx])\n",
    "\n",
    "figsize(12, 12)\n",
    "imshow(np.concatenate(X_test[samples_idx].reshape(n, 28*n, 28), axis=1))\n"
   ]
  },
  {
   "cell_type": "code",
   "execution_count": 42,
   "metadata": {},
   "outputs": [
    {
     "data": {
      "text/plain": [
       "0.7527"
      ]
     },
     "execution_count": 42,
     "metadata": {},
     "output_type": "execute_result"
    }
   ],
   "source": [
    "npmodel.test(X_test, Y_test)"
   ]
  },
  {
   "cell_type": "code",
   "execution_count": 31,
   "metadata": {},
   "outputs": [
    {
     "data": {
      "text/plain": [
       "['__class__',\n",
       " '__delattr__',\n",
       " '__dir__',\n",
       " '__doc__',\n",
       " '__eq__',\n",
       " '__format__',\n",
       " '__ge__',\n",
       " '__getattribute__',\n",
       " '__gt__',\n",
       " '__hash__',\n",
       " '__init__',\n",
       " '__init_subclass__',\n",
       " '__le__',\n",
       " '__lt__',\n",
       " '__ne__',\n",
       " '__new__',\n",
       " '__reduce__',\n",
       " '__reduce_ex__',\n",
       " '__repr__',\n",
       " '__setattr__',\n",
       " '__sizeof__',\n",
       " '__str__',\n",
       " '__subclasshook__',\n",
       " 'index',\n",
       " 'type']"
      ]
     },
     "execution_count": 31,
     "metadata": {},
     "output_type": "execute_result"
    }
   ],
   "source": [
    "dir(torch.device('cuda'))"
   ]
  },
  {
   "cell_type": "code",
   "execution_count": 36,
   "metadata": {},
   "outputs": [
    {
     "data": {
      "text/plain": [
       "False"
      ]
     },
     "execution_count": 36,
     "metadata": {},
     "output_type": "execute_result"
    }
   ],
   "source": [
    "torch.cuda.is_available()"
   ]
  },
  {
   "cell_type": "code",
   "execution_count": 3,
   "metadata": {},
   "outputs": [],
   "source": [
    "a = np.random.uniform(-1., 1., size=(120, 28*28))/np.sqrt(28*28*120)\n"
   ]
  },
  {
   "cell_type": "code",
   "execution_count": 7,
   "metadata": {},
   "outputs": [
    {
     "data": {
      "text/plain": [
       "dtype('float64')"
      ]
     },
     "execution_count": 7,
     "metadata": {},
     "output_type": "execute_result"
    }
   ],
   "source": [
    "a.dtype"
   ]
  },
  {
   "cell_type": "code",
   "execution_count": 68,
   "metadata": {},
   "outputs": [
    {
     "ename": "TypeError",
     "evalue": "unsupported operand type(s) for *: 'NoneType' and 'float'",
     "output_type": "error",
     "traceback": [
      "\u001b[0;31m---------------------------------------------------------------------------\u001b[0m",
      "\u001b[0;31mTypeError\u001b[0m                                 Traceback (most recent call last)",
      "\u001b[0;32m<ipython-input-68-edad5ef071f6>\u001b[0m in \u001b[0;36m<module>\u001b[0;34m\u001b[0m\n\u001b[1;32m      1\u001b[0m \u001b[0ma\u001b[0m \u001b[0;34m=\u001b[0m \u001b[0;32mNone\u001b[0m\u001b[0;34m\u001b[0m\u001b[0;34m\u001b[0m\u001b[0m\n\u001b[1;32m      2\u001b[0m \u001b[0mb\u001b[0m \u001b[0;34m=\u001b[0m \u001b[0;36m1.3\u001b[0m\u001b[0;34m\u001b[0m\u001b[0;34m\u001b[0m\u001b[0m\n\u001b[0;32m----> 3\u001b[0;31m \u001b[0ma\u001b[0m\u001b[0;34m*\u001b[0m\u001b[0mb\u001b[0m\u001b[0;34m\u001b[0m\u001b[0;34m\u001b[0m\u001b[0m\n\u001b[0m",
      "\u001b[0;31mTypeError\u001b[0m: unsupported operand type(s) for *: 'NoneType' and 'float'"
     ]
    }
   ],
   "source": []
  },
  {
   "cell_type": "code",
   "execution_count": null,
   "metadata": {},
   "outputs": [],
   "source": []
  }
 ],
 "metadata": {
  "kernelspec": {
   "display_name": "Python 3",
   "language": "python",
   "name": "python3"
  },
  "language_info": {
   "codemirror_mode": {
    "name": "ipython",
    "version": 3
   },
   "file_extension": ".py",
   "mimetype": "text/x-python",
   "name": "python",
   "nbconvert_exporter": "python",
   "pygments_lexer": "ipython3",
   "version": "3.8.5"
  }
 },
 "nbformat": 4,
 "nbformat_minor": 2
}
