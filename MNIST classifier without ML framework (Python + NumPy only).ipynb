{
 "cells": [
  {
   "cell_type": "code",
   "execution_count": 899,
   "metadata": {},
   "outputs": [
    {
     "name": "stdout",
     "output_type": "stream",
     "text": [
      "Populating the interactive namespace from numpy and matplotlib\n"
     ]
    }
   ],
   "source": [
    "%pylab inline\n",
    "from tqdm import trange\n",
    "import torch\n",
    "import torch.nn as nn\n",
    "import torch.nn.functional as F\n",
    "import torch.optim as optim\n",
    "import numpy as np"
   ]
  },
  {
   "cell_type": "code",
   "execution_count": 900,
   "metadata": {},
   "outputs": [],
   "source": [
    "# Data import \n",
    "\n",
    "def fetch(url):\n",
    "    import requests, gzip, os, hashlib, numpy\n",
    "    path = os.path.join(os.getcwd(), hashlib.md5(url.encode('utf-8')).hexdigest())\n",
    "    if os.path.isfile(path):\n",
    "        with open(path, 'rb') as f:\n",
    "            dat = f.read()\n",
    "    else:\n",
    "        with open(path, 'wb') as f:\n",
    "            dat = requests.get(url).content\n",
    "            f.write(dat)\n",
    "    return numpy.frombuffer(gzip.decompress(dat), dtype=numpy.uint8).copy()\n",
    "\n",
    "X_train = fetch('http://yann.lecun.com/exdb/mnist/train-images-idx3-ubyte.gz')[0x10:].reshape((-1, 28, 28))\n",
    "Y_train = fetch('http://yann.lecun.com/exdb/mnist/train-labels-idx1-ubyte.gz')[8:]\n",
    "X_test = fetch('http://yann.lecun.com/exdb/mnist/t10k-images-idx3-ubyte.gz')[0x10:].reshape((-1, 28, 28))\n",
    "Y_test = fetch('http://yann.lecun.com/exdb/mnist/t10k-labels-idx1-ubyte.gz')[8:]"
   ]
  },
  {
   "cell_type": "code",
   "execution_count": 901,
   "metadata": {},
   "outputs": [],
   "source": [
    "# NN definition\n",
    "\n",
    "class Classifier(nn.Module):\n",
    "    def __init__(self):\n",
    "        super(Classifier, self).__init__()\n",
    "        self.l1 = nn.Linear(784, 120)\n",
    "        self.l2 = nn.Linear(120, 10)\n",
    "        self.lsm = nn.LogSoftmax(dim=1)\n",
    "        \n",
    "    def forward(self, x, **kwargs):\n",
    "        x = self.l1(x)\n",
    "        x = F.relu(x)\n",
    "        x = self.l2(x)\n",
    "        x = self.lsm(x)\n",
    "        return x"
   ]
  },
  {
   "cell_type": "code",
   "execution_count": 902,
   "metadata": {},
   "outputs": [
    {
     "name": "stderr",
     "output_type": "stream",
     "text": [
      "\n",
      "\n",
      "\n",
      "\n",
      "\n",
      "\n",
      "\n",
      "  0%|                                                                                         | 0/1000 [00:00<?, ?it/s]\n",
      "\n",
      "\n",
      "\n",
      "\n",
      "\n",
      "\n",
      "  5%|████▏                                                                          | 53/1000 [00:00<00:01, 524.75it/s]\n",
      "\n",
      "\n",
      "\n",
      "\n",
      "\n",
      "\n",
      " 11%|████████▋                                                                     | 111/1000 [00:00<00:01, 538.68it/s]\n",
      "\n",
      "\n",
      "\n",
      "\n",
      "\n",
      "\n",
      " 17%|████████████▉                                                                 | 166/1000 [00:00<00:01, 538.84it/s]\n",
      "\n",
      "\n",
      "\n",
      "\n",
      "\n",
      "\n",
      " 22%|█████████████████                                                             | 218/1000 [00:00<00:01, 531.42it/s]\n",
      "\n",
      "\n",
      "\n",
      "\n",
      "\n",
      "\n",
      " 26%|████████████████████▍                                                         | 262/1000 [00:00<00:01, 498.53it/s]\n",
      "\n",
      "\n",
      "\n",
      "\n",
      "\n",
      "\n",
      " 31%|████████████████████████                                                      | 309/1000 [00:00<00:01, 486.58it/s]\n",
      "\n",
      "\n",
      "\n",
      "\n",
      "\n",
      "\n",
      " 35%|███████████████████████████▍                                                  | 352/1000 [00:00<00:01, 465.06it/s]\n",
      "\n",
      "\n",
      "\n",
      "\n",
      "\n",
      "\n",
      " 40%|██████████████████████████████▊                                               | 395/1000 [00:00<00:01, 438.68it/s]\n",
      "\n",
      "\n",
      "\n",
      "\n",
      "\n",
      "\n",
      " 44%|██████████████████████████████████                                            | 437/1000 [00:00<00:01, 417.41it/s]\n",
      "\n",
      "\n",
      "\n",
      "\n",
      "\n",
      "\n",
      " 48%|█████████████████████████████████████▎                                        | 478/1000 [00:01<00:01, 402.92it/s]\n",
      "\n",
      "\n",
      "\n",
      "\n",
      "\n",
      "\n",
      " 52%|████████████████████████████████████████▍                                     | 518/1000 [00:01<00:01, 388.00it/s]\n",
      "\n",
      "\n",
      "\n",
      "\n",
      "\n",
      "\n",
      " 56%|███████████████████████████████████████████▍                                  | 557/1000 [00:01<00:01, 385.15it/s]\n",
      "\n",
      "\n",
      "\n",
      "\n",
      "\n",
      "\n",
      " 60%|██████████████████████████████████████████████▍                               | 596/1000 [00:01<00:01, 376.51it/s]\n",
      "\n",
      "\n",
      "\n",
      "\n",
      "\n",
      "\n",
      " 63%|█████████████████████████████████████████████████▍                            | 634/1000 [00:01<00:01, 364.51it/s]\n",
      "\n",
      "\n",
      "\n",
      "\n",
      "\n",
      "\n",
      " 67%|████████████████████████████████████████████████████▎                         | 671/1000 [00:01<00:00, 362.91it/s]\n",
      "\n",
      "\n",
      "\n",
      "\n",
      "\n",
      "\n",
      " 71%|███████████████████████████████████████████████████████▏                      | 708/1000 [00:01<00:00, 360.74it/s]\n",
      "\n",
      "\n",
      "\n",
      "\n",
      "\n",
      "\n",
      " 74%|██████████████████████████████████████████████████████████                    | 745/1000 [00:01<00:00, 355.09it/s]\n",
      "\n",
      "\n",
      "\n",
      "\n",
      "\n",
      "\n",
      " 78%|████████████████████████████████████████████████████████████▉                 | 781/1000 [00:01<00:00, 332.82it/s]\n",
      "\n",
      "\n",
      "\n",
      "\n",
      "\n",
      "\n",
      " 82%|███████████████████████████████████████████████████████████████▌              | 815/1000 [00:02<00:00, 325.33it/s]\n",
      "\n",
      "\n",
      "\n",
      "\n",
      "\n",
      "\n",
      " 85%|██████████████████████████████████████████████████████████████████▏           | 848/1000 [00:02<00:00, 314.57it/s]\n",
      "\n",
      "\n",
      "\n",
      "\n",
      "\n",
      "\n",
      " 88%|████████████████████████████████████████████████████████████████████▋         | 880/1000 [00:02<00:00, 306.19it/s]\n",
      "\n",
      "\n",
      "\n",
      "\n",
      "\n",
      "\n",
      " 91%|███████████████████████████████████████████████████████████████████████▏      | 913/1000 [00:02<00:00, 310.32it/s]\n",
      "\n",
      "\n",
      "\n",
      "\n",
      "\n",
      "\n",
      " 95%|█████████████████████████████████████████████████████████████████████████▉    | 948/1000 [00:02<00:00, 320.36it/s]\n",
      "\n",
      "\n",
      "\n",
      "\n",
      "\n",
      "\n",
      "100%|█████████████████████████████████████████████████████████████████████████████| 1000/1000 [00:02<00:00, 383.88it/s]\n"
     ]
    },
    {
     "data": {
      "text/plain": [
       "[<matplotlib.lines.Line2D at 0x23404781888>]"
      ]
     },
     "execution_count": 902,
     "metadata": {},
     "output_type": "execute_result"
    },
    {
     "data": {
      "image/png": "[encoded data removed]",
      "text/plain": [
       "<Figure size 432x288 with 1 Axes>"
      ]
     },
     "metadata": {
      "needs_background": "light"
     },
     "output_type": "display_data"
    }
   ],
   "source": [
    "# NN instantiation\n",
    "\n",
    "model = Classifier()\n",
    "batch_size = 128\n",
    "epochs = 1000\n",
    "loss_function = nn.NLLLoss(reduction='none')\n",
    "optimizer = optim.SGD(model.parameters(), lr=0.001, momentum=0)\n",
    "\n",
    "losses = [] # For later plotting\n",
    "\n",
    "for i in trange(epochs):\n",
    "    samples_idx = np.random.randint(0, X_train.shape[0], size=batch_size)\n",
    "    X = torch.tensor(X_train[samples_idx].reshape((-1, 28*28))).float()\n",
    "    Y = torch.tensor(Y_train[samples_idx]).long()\n",
    "    model.zero_grad()\n",
    "    out = model(X)\n",
    "    loss = loss_function(out, Y)\n",
    "    loss = loss.mean()\n",
    "    loss.backward()\n",
    "    optimizer.step()\n",
    "    losses.append(loss.item())\n",
    "\n",
    "plot(losses)\n",
    "    "
   ]
  },
  {
   "cell_type": "code",
   "execution_count": 904,
   "metadata": {},
   "outputs": [
    {
     "name": "stdout",
     "output_type": "stream",
     "text": [
      "tensor([[-1.7295e+01, -1.5765e+01, -9.7308e+00, -3.9356e+00, -1.8120e+01,\n",
      "         -1.5563e+01, -2.0774e+01, -2.0225e-02, -1.1484e+01, -7.7808e+00]],\n",
      "       grad_fn=<LogSoftmaxBackward>)\n",
      "tensor([7])\n",
      "tensor([0.0202], grad_fn=<NllLossBackward>)\n"
     ]
    }
   ],
   "source": [
    "X = torch.tensor(X_test[234:235].reshape((-1, 28*28))).float()\n",
    "Y = torch.tensor(Y_test[234:235]).long()\n",
    "out = model(X)\n",
    "print(out)\n",
    "print(Y)\n",
    "print(loss_function(out, Y))"
   ]
  },
  {
   "cell_type": "code",
   "execution_count": 905,
   "metadata": {},
   "outputs": [
    {
     "data": {
      "text/plain": [
       "0.9286"
      ]
     },
     "execution_count": 905,
     "metadata": {},
     "output_type": "execute_result"
    }
   ],
   "source": [
    "out_test = torch.argmax(model(torch.tensor(X_test.reshape((-1, 28*28))).float()), dim=1).numpy()\n",
    "accuracy = (out_test == Y_test).mean()\n",
    "accuracy"
   ]
  },
  {
   "cell_type": "code",
   "execution_count": 364,
   "metadata": {},
   "outputs": [],
   "source": [
    "# # Weirdest numbers\n",
    "\n",
    "# X = torch.tensor(X_test.reshape((-1, 28*28))).float()\n",
    "# Y = torch.tensor(Y_test).long()\n",
    "# out = model(X)\n",
    "# loss = loss_function(out, Y)\n",
    "# weird = np.argsort(loss.detach().numpy())[::-1]\n",
    "\n",
    "# n = 2\n",
    "# figure(figsize = (28*n, 28*n))\n",
    "# imshow(X_test[weird[0:n*n]].reshape((28*n, 28*n)))"
   ]
  },
  {
   "cell_type": "code",
   "execution_count": 906,
   "metadata": {},
   "outputs": [
    {
     "name": "stdout",
     "output_type": "stream",
     "text": [
      "Prediction:  8\n",
      "Actual value:  8\n"
     ]
    },
    {
     "data": {
      "image/png": "[encoded data removed]",
      "text/plain": [
       "<Figure size 432x288 with 1 Axes>"
      ]
     },
     "metadata": {
      "needs_background": "light"
     },
     "output_type": "display_data"
    }
   ],
   "source": [
    "rand_idx = np.random.randint(0, X_test.shape[0])\n",
    "imshow(X_test[rand_idx])\n",
    "print('Prediction: ', out_test[rand_idx])\n",
    "print('Actual value: ', Y_test[rand_idx])"
   ]
  },
  {
   "cell_type": "code",
   "execution_count": null,
   "metadata": {},
   "outputs": [],
   "source": [
    "### NO PYTORCH ALLOWED FROM HERE ON ###"
   ]
  },
  {
   "cell_type": "code",
   "execution_count": 907,
   "metadata": {},
   "outputs": [],
   "source": [
    "# Helper functions\n",
    "\n",
    "def dot(a, b):\n",
    "    d = a.dot(b)\n",
    "    if len(b.shape) == 3:\n",
    "        if len(a.shape) == 2:\n",
    "            d = d.swapaxes(0, 1)\n",
    "        elif len(a.shape) == 3:\n",
    "            assert a.shape[0] == b.shape[0]\n",
    "            d = d.swapaxes(1, 2)[np.arange(a.shape[0]), np.arange(a.shape[0])]\n",
    "    return d"
   ]
  },
  {
   "cell_type": "code",
   "execution_count": 1097,
   "metadata": {},
   "outputs": [],
   "source": [
    "# Layer function definition\n",
    "\n",
    "import abc\n",
    "\n",
    "class LayerFunction:\n",
    "    __metaclass__ = abc.ABCMeta\n",
    "\n",
    "    def __call__(self, x, **kwargs):\n",
    "        return self.evaluate(x, **kwargs)\n",
    "        \n",
    "    @abc.abstractmethod\n",
    "    def evaluate(self, x, **kwargs):\n",
    "        pass\n",
    "    \n",
    "    @abc.abstractmethod\n",
    "    def backprop(self, x, dD):\n",
    "        pass\n",
    "\n",
    "\n",
    "# Activation function definition\n",
    "\n",
    "class ActivationFunction(LayerFunction):\n",
    "    \n",
    "    def __init__(self, dim=0):\n",
    "        self.dim = dim #UNUSED\n",
    "    \n",
    "\n",
    "class ReLU(ActivationFunction):\n",
    "    \n",
    "    def evaluate(self, x, **kwargs):\n",
    "        return np.maximum(x, 0)\n",
    "    \n",
    "    def backprop(self, x, dD):\n",
    "        return (x > 0).astype(int)*dD\n",
    "\n",
    "\n",
    "class LogSoftmax(ActivationFunction):\n",
    "        \n",
    "    def evaluate(self, x, **kwargs):\n",
    "        if len(x.shape) == 2:\n",
    "            x = x - x.max()\n",
    "            x = x - np.log(np.exp(x).sum()).reshape(-1, 1)\n",
    "        elif len(x.shape) == 3:\n",
    "            x = x - x.max(1).reshape(-1, 1, 1)\n",
    "            x = x - np.log(np.exp(x).sum(1)).reshape(-1, 1, 1)\n",
    "        return x\n",
    "            \n",
    "    def backprop(self, x, dD):\n",
    "        id = np.identity(x.shape[1])\n",
    "        exp_l = np.exp(self.evaluate(x))\n",
    "        dLSM = dot(id - exp_l, dD)\n",
    "        return dLSM\n",
    "    \n",
    "\n",
    "# Loss function definition\n",
    "\n",
    "class LossFunction(LayerFunction):\n",
    "\n",
    "    def __init__(self, dim=0):\n",
    "        self.dim = dim #UNUSED\n",
    "    \n",
    "\n",
    "class NLLLoss(LossFunction):\n",
    "    \n",
    "    def evaluate(self, x, **kwargs):\n",
    "        if self.dim == 0:\n",
    "            return -np.average(x[np.arange(x.shape[0]), kwargs['labels']])\n",
    "    \n",
    "    def backprop(self, x, y):\n",
    "        dx = np.zeros(x.shape, dtype=x.dtype)\n",
    "        if self.dim == 0:\n",
    "            dx[np.arange(x.shape[0]), y.T] = -1\n",
    "        return dx"
   ]
  },
  {
   "cell_type": "code",
   "execution_count": 1178,
   "metadata": {},
   "outputs": [],
   "source": [
    "# Model definition\n",
    "\n",
    "class NPClassifier:\n",
    "    def __init__(self, uniform=False):\n",
    "        # Kaiming weigth initialization\n",
    "        if not uniform:\n",
    "            # Normal sampling \n",
    "            # https://towardsdatascience.com/weight-initialization-in-neural-networks-a-journey-from-the-basics-to-kaiming-954fb9b47c79\n",
    "            self.w1 = np.random.randn(120, 28*28)*np.sqrt(2/(28*28))\n",
    "            self.w2 = np.random.randn(10, 120)*np.sqrt(2/120)\n",
    "        else:\n",
    "            # Uniform sampling\n",
    "            # https://github.com/pytorch/pytorch/blob/master/torch/nn/modules/linear.py#L44-L48\n",
    "            self.w1 = np.random.uniform(-1/28, 1/28, size=(120, 28*28))\n",
    "            self.w2 = np.random.uniform(-1/sqrt(120), 1/sqrt(120), size=(10, 120))\n",
    "        \n",
    "        # Uniform bias initialization\n",
    "        # https://github.com/pytorch/pytorch/blob/master/torch/nn/modules/linear.py#L44-L48\n",
    "        self.b1 = np.random.uniform(-1/28, 1/28, size=(120, 1))\n",
    "        self.b2 = np.random.uniform(-1/sqrt(120), 1/sqrt(120), size=(10, 1))\n",
    "        \n",
    "        # Layer activation functions\n",
    "        self.act1 = ReLU()\n",
    "        self.act2 = LogSoftmax()\n",
    "    \n",
    "    def __call__(self, x):\n",
    "        return self.forward(x)\n",
    "    \n",
    "    @classmethod\n",
    "    def from_weights(cls, w1, b1, w2, b2):\n",
    "        assert w1.shape == (120, 28*28) and b1.shape == (120, 1) and w2.shape == (10, 120) and b2.shape == (10, 1)\n",
    "        classifier = cls()\n",
    "        classifier.w1 = w1\n",
    "        classifier.b1 = b1\n",
    "        classifier.w2 = w2\n",
    "        classifier.b2 = b2\n",
    "        return classifier\n",
    "        \n",
    "    def forward(self, x):\n",
    "        if x.shape[0] != 28*28:\n",
    "            x = x.reshape(x.shape[0], x.shape[1], 1)\n",
    "        x = dot(self.w1, x)\n",
    "        x = x + self.b1\n",
    "        x = self.act1(x)\n",
    "        x = dot(self.w2, x)\n",
    "        x = x + self.b2\n",
    "        x = self.act2(x)\n",
    "        return x\n",
    "    \n",
    "    def forward_backward(self, x, y, loss_function):\n",
    "        assert x.shape[1] == 28*28\n",
    "        if len(x.shape) == 2:\n",
    "            x = x.reshape(x.shape[0], x.shape[1], 1)\n",
    "                    \n",
    "        # Forward pass\n",
    "        a0 = x\n",
    "        c1 = dot(self.w1, a0)\n",
    "        z1 = c1 + self.b1\n",
    "        a1 = self.act1(z1)\n",
    "        c2 = dot(self.w2, a1)\n",
    "        z2 = c2 + self.b2\n",
    "        a2 = self.act2(z2)\n",
    "        loss = loss_function(a2, labels=y)\n",
    "                \n",
    "        # Backward pass\n",
    "        da2 = loss_function.backprop(a2, y)\n",
    "        dz2 = self.act2.backprop(z2, da2)\n",
    "        db2 = dz2 # Relevant\n",
    "        dc2 = dz2\n",
    "        dw2 = dot(dc2, a1.swapaxes(1, 2)) # Relevant\n",
    "        da1 = dot(w2.T, dc2)\n",
    "        dz1 = self.act1.backprop(z1, da1)\n",
    "        db1 = dz1 # Relevant\n",
    "        dc1 = dz1\n",
    "        dw1 = dot(dc1, a0.swapaxes(1, 2)) # Relevant\n",
    "        da0 = dot(w1.T, dc1)\n",
    "        \n",
    "        return loss, dw1, db1, dw2, db2\n",
    "    \n",
    "    def step(self, dw1, db1, dw2, db2, lr):\n",
    "        b2_ = self.b2\n",
    "        self.w1 = self.w1 - dw1 * lr\n",
    "        self.b1 = self.b1 - db1 * lr\n",
    "        self.w2 = self.w2 - dw2 * lr\n",
    "        self.b2 = self.b2 - db2 * lr\n",
    "    \n",
    "    def train(self, inputs, labels, batch_size, epochs, loss_function, learning_rate):\n",
    "        losses = []\n",
    "        for i in range(epochs):\n",
    "            samples = np.random.randint(0, inputs.shape[0], size=batch_size)\n",
    "            loss, dw1, db1, dw2, db2 = self.forward_backward(inputs[samples], labels[samples], loss_function)\n",
    "            losses.append(loss)\n",
    "            dw1 = np.average(dw1, axis=0).reshape(120, 28*28)\n",
    "            db1 = np.average(db1, axis=0).reshape(120, 1)\n",
    "            dw2 = np.average(dw2, axis=0).reshape(10, 120)\n",
    "            db2 = np.average(db2, axis=0).reshape(10, 1)\n",
    "            self.step(np.average(dw1, axis=0), db1, dw2, db2, learning_rate)\n",
    "        return losses\n",
    "    \n",
    "    def test(self, inputs, labels):\n",
    "        forward = np.argmax(self.forward(inputs.reshape((-1, 28*28, 1))), 1).reshape(-1, 1)\n",
    "        return (forward == labels.reshape(-1, 1)).mean()"
   ]
  },
  {
   "cell_type": "code",
   "execution_count": 1179,
   "metadata": {},
   "outputs": [],
   "source": [
    "### PYTORCH V. PYTHON COMPARISON ###"
   ]
  },
  {
   "cell_type": "code",
   "execution_count": 1180,
   "metadata": {
    "scrolled": true
   },
   "outputs": [
    {
     "name": "stdout",
     "output_type": "stream",
     "text": [
      "PyTorch:  [7 0 3 6 8 5 7 0 1 2 7 9 5 5 9 2 2 6 0 5]\n",
      "Python:   [7 0 3 6 8 5 7 0 1 2 7 9 5 5 9 2 2 6 0 5]\n",
      "Labels:   [7 0 3 6 8 5 7 0 1 2 7 9 5 5 9 2 2 6 0 5]\n",
      "\n",
      "Gradient averages \n",
      "dw1:  -0.0007373039737577547 db1:  -2.3173778003135185e-05 dw2:  2.313380506417199e-09 db2:  7.62321327456468e-10 \n",
      "\n",
      "tensor(0.0391, grad_fn=<MeanBackward0>) 0.039051376\n"
     ]
    },
    {
     "data": {
      "text/plain": [
       "<matplotlib.image.AxesImage at 0x234263ab308>"
      ]
     },
     "execution_count": 1180,
     "metadata": {},
     "output_type": "execute_result"
    },
    {
     "data": {
      "image/png": "[encoded data removed]",
      "text/plain": [
       "<Figure size 576x576 with 1 Axes>"
      ]
     },
     "metadata": {
      "needs_background": "light"
     },
     "output_type": "display_data"
    },
    {
     "data": {
      "image/png": "[encoded data removed]",
      "text/plain": [
       "<Figure size 576x576 with 1 Axes>"
      ]
     },
     "metadata": {
      "needs_background": "light"
     },
     "output_type": "display_data"
    }
   ],
   "source": [
    "# Model comparison\n",
    "\n",
    "# Copy Classifier data into NPClassifier\n",
    "w1 = model.l1.weight.detach().numpy()\n",
    "b1 = model.l1.bias.detach().numpy().reshape((120, -1))\n",
    "w2 = model.l2.weight.detach().numpy()\n",
    "b2 = model.l2.bias.detach().numpy().reshape((10, -1))\n",
    "npmodel = NPClassifier.from_weights(w1, b1, w2, b2)\n",
    "\n",
    "# Compare predictions\n",
    "n = 20\n",
    "samples_idx = np.random.randint(0, X_test.shape[0], size=n)\n",
    "X_test_reshaped = X_test[samples_idx].reshape(-1, 28*28)\n",
    "out_model = np.argmax(model(torch.tensor(X_test_reshaped).float()).detach().numpy(), 1)\n",
    "out_npmodel = np.argmax(npmodel(X_test_reshaped.T), 0)\n",
    "\n",
    "print('PyTorch: ', out_model)\n",
    "print('Python:  ', out_npmodel)\n",
    "print('Labels:  ', Y_test[samples_idx])\n",
    "\n",
    "# Gradient of PyTorch trained weights and biases is near 0\n",
    "loss_function = NLLLoss()\n",
    "nploss, dw1, db1, dw2, db2 = npmodel.forward_backward(X_test_reshaped, Y_test[samples_idx], loss_function)\n",
    "print('\\nGradient averages \\ndw1: ', np.average(dw1), 'db1: ', np.average(db1), 'dw2: ', np.average(dw2), 'db2: ', np.average(db2), '\\n')\n",
    "\n",
    "# Gradient equivalence\n",
    "model.zero_grad()\n",
    "out = model(torch.tensor(X_test_reshaped).float())\n",
    "loss_function = nn.NLLLoss(reduction='none')\n",
    "loss = loss_function(out, torch.tensor(Y_test[samples_idx]).long())\n",
    "loss = loss.mean()\n",
    "print(loss, nploss)\n",
    "loss.backward()\n",
    "\n",
    "figsize(8, 8)\n",
    "imshow(np.average(dw1, axis=0).reshape(240, 28*14))\n",
    "figure()\n",
    "imshow(model.l1.weight.grad.detach().numpy().reshape(240, 28*14))"
   ]
  },
  {
   "cell_type": "code",
   "execution_count": 1184,
   "metadata": {
    "scrolled": false
   },
   "outputs": [
    {
     "data": {
      "text/plain": [
       "[<matplotlib.lines.Line2D at 0x23429deb488>]"
      ]
     },
     "execution_count": 1184,
     "metadata": {},
     "output_type": "execute_result"
    },
    {
     "data": {
      "image/png": "[encoded data removed]",
      "text/plain": [
       "<Figure size 576x576 with 1 Axes>"
      ]
     },
     "metadata": {
      "needs_background": "light"
     },
     "output_type": "display_data"
    }
   ],
   "source": [
    "npmodel = NPClassifier()\n",
    "\n",
    "batch_size = 128\n",
    "epochs = 200\n",
    "learning_rate = 0.001\n",
    "loss_function = NLLLoss()\n",
    "\n",
    "inputs = X_train.reshape(-1, 28*28)\n",
    "labels = Y_train.reshape(-1, 1)\n",
    "\n",
    "losses = npmodel.train(inputs, labels, batch_size, epochs, loss_function, learning_rate)\n",
    "\n",
    "plot(losses)"
   ]
  },
  {
   "cell_type": "code",
   "execution_count": 1186,
   "metadata": {},
   "outputs": [
    {
     "name": "stdout",
     "output_type": "stream",
     "text": [
      "PyTorch:  [4 7 1 3 4 2 2 3 4 9 4 1 8 3 2 7]\n",
      "Python:   [4 7 1 2 4 2 3 8 4 7 4 1 8 3 8 7]\n",
      "Labels:   [4 7 1 3 4 2 2 3 4 7 4 1 8 3 2 7]\n"
     ]
    },
    {
     "data": {
      "text/plain": [
       "(16, 28, 28)"
      ]
     },
     "execution_count": 1186,
     "metadata": {},
     "output_type": "execute_result"
    },
    {
     "data": {
      "image/png": "[encoded data removed]",
      "text/plain": [
       "<Figure size 864x864 with 1 Axes>"
      ]
     },
     "metadata": {
      "needs_background": "light"
     },
     "output_type": "display_data"
    }
   ],
   "source": [
    "# Compare predictions\n",
    "n = 4\n",
    "samples_idx = np.random.randint(0, X_test.shape[0], size=n*n)\n",
    "X_test_reshaped = X_test[samples_idx].reshape(-1, 28*28)\n",
    "out_model = np.argmax(model(torch.tensor(X_test_reshaped).float()).detach().numpy(), 1)\n",
    "out_npmodel = np.argmax(npmodel(X_test_reshaped.T), 0)\n",
    "\n",
    "print('PyTorch: ', out_model)\n",
    "print('Python:  ', out_npmodel)\n",
    "print('Labels:  ', Y_test[samples_idx])\n",
    "\n",
    "figsize(12, 12)\n",
    "imshow(np.concatenate(X_test[samples_idx].reshape(n, 28*n, 28), axis=1))\n",
    "X_test[samples_idx].shape"
   ]
  },
  {
   "cell_type": "code",
   "execution_count": 1185,
   "metadata": {},
   "outputs": [
    {
     "data": {
      "text/plain": [
       "0.7638"
      ]
     },
     "execution_count": 1185,
     "metadata": {},
     "output_type": "execute_result"
    }
   ],
   "source": [
    "out_nptest = np.argmax(npmodel(X_test.reshape((-1, 28*28))), 1).reshape(-1, 1)\n",
    "accuracy = (out_nptest == Y_test.reshape(-1, 1)).mean()\n",
    "accuracy"
   ]
  },
  {
   "cell_type": "code",
   "execution_count": 1181,
   "metadata": {},
   "outputs": [],
   "source": [
    "a = npmodel.test(X_test, Y_test)"
   ]
  },
  {
   "cell_type": "code",
   "execution_count": 1183,
   "metadata": {},
   "outputs": [
    {
     "data": {
      "text/plain": [
       "0.9286"
      ]
     },
     "execution_count": 1183,
     "metadata": {},
     "output_type": "execute_result"
    }
   ],
   "source": [
    "a"
   ]
  },
  {
   "cell_type": "code",
   "execution_count": null,
   "metadata": {},
   "outputs": [],
   "source": []
  }
 ],
 "metadata": {
  "kernelspec": {
   "display_name": "Python 3",
   "language": "python",
   "name": "python3"
  },
  "language_info": {
   "codemirror_mode": {
    "name": "ipython",
    "version": 3
   },
   "file_extension": ".py",
   "mimetype": "text/x-python",
   "name": "python",
   "nbconvert_exporter": "python",
   "pygments_lexer": "ipython3",
   "version": "3.7.4"
  }
 },
 "nbformat": 4,
 "nbformat_minor": 2
}
